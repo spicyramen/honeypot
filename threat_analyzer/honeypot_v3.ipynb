{
 "cells": [
  {
   "cell_type": "code",
   "execution_count": 1,
   "metadata": {
    "collapsed": false
   },
   "outputs": [
    {
     "name": "stderr",
     "output_type": "stream",
     "text": [
      "Using TensorFlow backend.\n"
     ]
    }
   ],
   "source": [
    "import pandas as pd\n",
    "import numpy as np\n",
    "\n",
    "from keras.utils import to_categorical\n",
    "from keras.models import Sequential\n",
    "from keras.layers import Dense, Dropout\n",
    "\n",
    "from sklearn.model_selection import train_test_split\n",
    "\n",
    "pd.options.mode.chained_assignment = None"
   ]
  },
  {
   "cell_type": "code",
   "execution_count": 2,
   "metadata": {
    "collapsed": true
   },
   "outputs": [],
   "source": [
    "FILENAME = 'data/honeypot_dataset.csv'"
   ]
  },
  {
   "cell_type": "code",
   "execution_count": 3,
   "metadata": {
    "collapsed": true
   },
   "outputs": [],
   "source": [
    "ALL_FEATURES = ['ruri',\n",
    "                'ruri_user',\n",
    "                'ruri_domain',\n",
    "                'from_user',\n",
    "                'from_domain',\n",
    "                'from_tag',\n",
    "                'to_user',\n",
    "                'contact_user',\n",
    "                'callid',\n",
    "                'content_type',\n",
    "                'user_agent',\n",
    "                'source_ip',\n",
    "                'source_port',\n",
    "                'destination_port',\n",
    "                'contact_ip',\n",
    "                'contact_port']\n",
    "CATEGORICAL = ['ruri',\n",
    "               'ruri_user',\n",
    "               'ruri_domain',\n",
    "               'from_user',\n",
    "               'from_domain',\n",
    "               'from_tag',\n",
    "               'to_user',\n",
    "               'contact_user',\n",
    "               'callid',\n",
    "               'content_type',\n",
    "               'user_agent',\n",
    "               'source_ip',\n",
    "               'contact_ip']\n",
    "\n",
    "LABEL_ENCODED_FEATURES = ['ruri_user', 'from_user', 'to_user', 'contact_user', 'user_agent', 'source_ip', 'contact_ip']\n",
    "CONTINUOUS = ['source_port', 'destination_port', 'contact_port']\n",
    "DROPPED_FEATURES = ['destination_port', 'ruri', 'ruri_domain', 'from_domain', 'callid', 'from_tag', 'content_type']\n",
    "FEATURES = list(set(ALL_FEATURES) - set(DROPPED_FEATURES))"
   ]
  },
  {
   "cell_type": "code",
   "execution_count": 4,
   "metadata": {
    "collapsed": true
   },
   "outputs": [],
   "source": [
    "SIP_SCANNERS = ('sipcli/v1.8', 'pplsip')\n",
    "\n",
    "_USER_AGENT = 'user_agent'\n",
    "LABEL = 'toll_fraud'\n",
    "\n",
    "MODEL_NAME = 'honeypot.json'\n",
    "MODEL_WEIGHTS = 'honeypot.h5'"
   ]
  },
  {
   "cell_type": "code",
   "execution_count": 5,
   "metadata": {
    "collapsed": true
   },
   "outputs": [],
   "source": [
    "def save_model(model):\n",
    "    \"\"\"\n",
    "\n",
    "    :param model: A Keras model.\n",
    "    :return:\n",
    "    \"\"\"\n",
    "    model_json = model.to_json()\n",
    "    with open(MODEL_NAME, \"w\") as json_file:\n",
    "        json_file.write(model_json)\n",
    "    # serialize weights to HDF5\n",
    "    model.save_weights(MODEL_WEIGHTS)\n",
    "    print(\"Saved model to disk\")"
   ]
  },
  {
   "cell_type": "code",
   "execution_count": 6,
   "metadata": {
    "collapsed": true
   },
   "outputs": [],
   "source": [
    "def _to_string(value):\n",
    "    \"\"\"Returns a string type based on value variable type.\n",
    "\n",
    "    Since we handle multiple languages we need to return a string type to write\n",
    "    in file human readable character.\n",
    "\n",
    "    Args:\n",
    "      value: (None, str or unicode)\n",
    "\n",
    "    Returns:\n",
    "      A str or None if no input.\n",
    "    \"\"\"\n",
    "\n",
    "    if not value:\n",
    "        print('Empty value')\n",
    "        return None\n",
    "\n",
    "    if isinstance(value, unicode):\n",
    "        return value.encode('utf-8')\n",
    "    else:\n",
    "        return str(value)"
   ]
  },
  {
   "cell_type": "code",
   "execution_count": 7,
   "metadata": {
    "collapsed": false
   },
   "outputs": [],
   "source": [
    "X = None\n",
    "class HoneypotData(object):\n",
    "    \"\"\"Honeypot Data\n",
    "\n",
    "    This class will contain the entire data pipeline from raw data to prepared\n",
    "    numpy arrays.  It's eventually inherited by the model class, but is left\n",
    "    distinct for readbility and logical organization.\n",
    "    \"\"\"\n",
    "    filepath = 'data/'\n",
    "    train_fn = 'honeypot_dataset.csv'\n",
    "    test_fn = 'honeypot_test.csv'\n",
    "\n",
    "    def __init__(self):\n",
    "        \"\"\" Initializes and process all pipeline.\"\"\"\n",
    "        self.X_train, self.y_train, self.X_valid, self.y_valid = self.preproc()\n",
    "\n",
    "    def preproc(self):\n",
    "        \"\"\"Process data pipeline.\"\"\"\n",
    "\n",
    "        # Import Data & Drop irrelevant features.\n",
    "        dataset = self.import_data(self.train_fn, drop=True)\n",
    "\n",
    "        # Fix NA values.\n",
    "        dataset = self.fix_na(dataset)\n",
    "\n",
    "        # Feature Engineering.\n",
    "        dataset = self.engineer_features(dataset)\n",
    "\n",
    "        # Process Categorical values processing.\n",
    "        dataset = self.process_categorical(dataset)\n",
    "\n",
    "        # Select all columns except target.\n",
    "        X = dataset[dataset.columns.difference([LABEL])]\n",
    "        y = dataset[LABEL]\n",
    "\n",
    "        # Split training and test datasets.\n",
    "        X_train, X_valid, y_train, y_valid = train_test_split(X, y, test_size=0.25, random_state=606, stratify=y)\n",
    "        return X_train.astype('float32'), y_train.values, X_valid.astype('float32'), y_valid.values\n",
    "\n",
    "    def import_data(self, filename, drop=True):\n",
    "        \"\"\"Import that data and then split it into train/test sets. Make sure to stratify.\n",
    "\n",
    "        This stratify parameter makes a split so that the proportion of values in the sample produced will be the same\n",
    "        as the proportion of values provided to parameter stratify.\n",
    "        For example, if variable y is a binary categorical variable with values 0 and 1 and there are 25% of zeros\n",
    "        and 75% of ones, stratify=y will make sure that your random split has 25% of 0's and 75% of 1's.\n",
    "\n",
    "        Args:\n",
    "            filename: (str) filename to read data from as Pandas.dataframe.\n",
    "            drop: (bool) Drop features.\n",
    "\n",
    "        Returns:\n",
    "            A Pandas.dataframe.\n",
    "        \"\"\"\n",
    "\n",
    "        dataset = pd.read_csv('%s%s' % (self.filepath, filename))\n",
    "\n",
    "        if drop:\n",
    "            # Drop irrelevant features.\n",
    "            return dataset.drop(DROPPED_FEATURES, axis=1)\n",
    "        else:\n",
    "            return dataset\n",
    "\n",
    "    def fix_na(self, dataset):\n",
    "        \"\"\"Fill na's with test (in the case of contact_user), and with application/sdp in the case of content_type.\"\"\"\n",
    "\n",
    "        na_vars = {\"contact_user\": \"test\", \"content_type\": \"application/sdp\"}\n",
    "        return dataset.fillna(na_vars)\n",
    "\n",
    "    def engineer_features(self, dataset):\n",
    "        \"\"\"Modify some features.\"\"\"\n",
    "\n",
    "        dataset['is_scanner'] = 0  # Initialize to no/0 is scanner.\n",
    "        dataset['is_scanner'].loc[dataset[_USER_AGENT].isin(SIP_SCANNERS)] = 1  # The rest are 0.\n",
    "        return dataset\n",
    "\n",
    "    def process_categorical(self, dataset):\n",
    "        \"\"\"\n",
    "\n",
    "        :param dataset:\n",
    "        :return:\n",
    "        \"\"\"\n",
    "        # Label Encoding.\n",
    "        for categorical_feature in LABEL_ENCODED_FEATURES:\n",
    "            categorical_feature = _to_string(categorical_feature)\n",
    "            dataset[categorical_feature] = dataset[categorical_feature].astype('category')\n",
    "            dataset[categorical_feature + '_cat'] = dataset[categorical_feature].cat.codes\n",
    "        # Drop previous values.\n",
    "        global X\n",
    "        X = dataset        \n",
    "        dataset = dataset.drop(LABEL_ENCODED_FEATURES, axis=1)\n",
    "        # Rename back categories. {'to_user_cat': 'to_user' ... }\n",
    "        dataset.rename(columns={c + '_cat': c for c in LABEL_ENCODED_FEATURES}, inplace=True)\n",
    "        return dataset\n",
    "\n",
    "    def preproc_test(self):\n",
    "        \"\"\"Pre-process testing data.\"\"\"\n",
    "\n",
    "        # Import data\n",
    "        test = self.import_data(self.test_fn, drop=True)\n",
    "        # Extract labels.\n",
    "        # Drop previous values.\n",
    "        test[_USER_AGENT] = test[_USER_AGENT].astype('category')\n",
    "        test['user_agent_cat'] = test[_USER_AGENT].cat.codes\n",
    "        print test[['user_agent_cat', _USER_AGENT]].head()\n",
    "        test = test.drop([_USER_AGENT], axis=1)\n",
    "        test.rename(columns={'user_agent_cat': _USER_AGENT}, inplace=True)\n",
    "        labels = test.user_agent.values\n",
    "\n",
    "        # Fix NA values.\n",
    "        test = self.fix_na(test)\n",
    "\n",
    "        # Feature Engineering\n",
    "        test = self.engineer_features(test)\n",
    "\n",
    "        # Process Categorical values processing.\n",
    "        test = self.process_categorical(test)\n",
    "        print test.columns\n",
    "        return labels, test"
   ]
  },
  {
   "cell_type": "code",
   "execution_count": 8,
   "metadata": {
    "collapsed": true
   },
   "outputs": [],
   "source": [
    "class HoneypotKeras(HoneypotData):\n",
    "    \"\"\"Main classifier model based in Keras.\"\"\"\n",
    "\n",
    "    def __init__(self):\n",
    "        self.X_train, self.y_train, self.X_valid, self.y_valid = self.preproc()\n",
    "        self.y_train, self.y_valid = to_categorical(self.y_train), to_categorical(self.y_valid)\n",
    "        self.feature_count = self.X_train.shape[1]\n",
    "        self.history = []\n",
    "\n",
    "    def build_model(self):\n",
    "        print 'Feature count: %d' % self.feature_count\n",
    "        model = Sequential()\n",
    "        model.add(Dense(2056, input_shape=(self.feature_count,), activation='relu'))\n",
    "        model.add(Dropout(0.1))\n",
    "        model.add(Dense(1028, activation='relu'))\n",
    "        model.add(Dropout(0.2))\n",
    "        model.add(Dense(1028, activation='relu'))\n",
    "        model.add(Dropout(0.3))\n",
    "        model.add(Dense(512, activation='relu'))\n",
    "        model.add(Dropout(0.4))\n",
    "        model.add(Dense(2, activation='sigmoid'))\n",
    "        model.compile(optimizer='adam',\n",
    "                      loss='binary_crossentropy',\n",
    "                      metrics=['accuracy'])\n",
    "        self.model = model\n",
    "\n",
    "    def fit(self, lr=0.001, epochs=1):\n",
    "        self.model.optimizer.lr = lr\n",
    "        hist = self.model.fit(self.X_train, self.y_train,\n",
    "                              batch_size=32, epochs=epochs,\n",
    "                              verbose=1, validation_data=(self.X_valid, self.y_valid),\n",
    "                              )\n",
    "        self.history.append(hist)\n",
    "\n",
    "    def prepare_submission(self, name):\n",
    "        labels, test_data = self.preproc_test()\n",
    "        print test_data\n",
    "        predictions = self.model.predict(test_data)\n",
    "        subm = pd.DataFrame(np.column_stack([labels, np.around(predictions[:, 1])]).astype('int32'),\n",
    "                            columns=[_USER_AGENT, LABEL])\n",
    "        subm.to_csv('%s.csv' % name, index=False)\n",
    "        return subm"
   ]
  },
  {
   "cell_type": "code",
   "execution_count": 9,
   "metadata": {
    "collapsed": false
   },
   "outputs": [
    {
     "name": "stdout",
     "output_type": "stream",
     "text": [
      "Feature count: 10\n",
      "Train on 1665 samples, validate on 555 samples\n",
      "Epoch 1/1\n",
      "1665/1665 [==============================] - 4s 2ms/step - loss: 0.2614 - acc: 0.9835 - val_loss: 0.0867 - val_acc: 0.9946\b\b\b\b\b\b\b\b\b\b\b\b\b\b\b\b\b\b\b\b\b\b\b\b\b\b\b\b\b\b\b\b\b\b\b\b\b\b\b\b\b\b\b\b\b\b\b\b\b\b\b\b\b\b\b\b\b\b\b\b\b\b\b\b\b\b\b\b\b\b\b\b\b\b\b\b\b\b\b\b\b\b\b\b\b\b\b\b\b\b\b\b\b\b\b\b\b\b\b\b\b\b\b\b\b\b\b\b\b\b\b\b\b\b\b\b\b\b\b\b\b\b\b\b\b\b\b\b\b\b\b\b\b\b\b\b\b\b\b\b\b\b\b\b\b\b\b\b\b\b\b\b\b\b\b\b\b\b\b\b\b\b\b\b\b\b\b\b\b\b\b\b\b\b\b\b\b\b\b\b\b\b\b\b\b\b\b\b\b\b\b\b\b\b\b\b\b\b\b\b\b\b\b\b\b\b\b\b\b\b\b\b\b\b\b\b\b\b\b\b\b\b\b\b\b\b\b\b\b\b\b\b\b\b\b\b\b\b\b\b\b\b\b\b\b\b\b\b\b\b\b\b\b\b\b\b\b\b\b\b\b\b\b\b\b\b\b\b\b\b\b\b\b\b\b\b\b\b\b\b\b\b\b\b\b\b\b\b\b\b\b\b\b\b\b\b\b\b\b\b\b\b\b\b\b\b\b\b\b\b\b\b\b\b\b\b\b\b\b\b\b\b\b\b\b\b\b\b\b\b\b\b\b\b\b\b\b\b\b\b\b\b\b\b\b\b\b\b\b\b\b\b\b\b\b\b\b\b\b\b\b\b\b\b\b\b\b\b\b\b\b\b\b\b\b\b\b\b\b\b\b\b\b\b\b\b\b\b\b\b\b\b\b\b\b\b\b\b\b\b\b\b\b\b\b\b\b\b\b\b\b\b\b\b\b\b\b\b\b\b\b\b\b\b\b\b\b\b\b\b\b\b\b\b\b\b\b\b\b\b\b\b\b\b\b\b\b\b\b\b\b\b\b\b\b\b\b\b\b\b\b\b\b\b\b\b\b\b\b\b\b\b\b\b\b\b\b\b\b\b\b\b\b\b\b\b\b\b\b\b\b\b\b\b\b\b\b\b\b\b\b\b\b\b\b\b\b\b\b\b\b\b\b\b\b\b\b\b\b\b\b\b\b\b\b\b\b\b\b\b\b\b\b\b\b\b\b\b\b\b\b\b\b\b\b\b\b\b\b\b\b\b\b\b\b\b\b\b\b\b\b\b\b\b\b\b\b\b\b\b\b\b\b\b\b\b\b\b\b\b\b\b\b\b\b\b\b\b\b\b\b\b\b\b\b\b\b\b\b\b\b\b\b\b\b\b\b\b\b\b\b\b\b\b\b\b\b\b\b\b\b\b\b\b\b\b\b\b\b\b\b\b\b\b\b\b\b\b\b\b\b\b\b\b\b\b\b\b\b\b\b\b\b\b\b\b\b\b\b\b\b\b\b\b\b\b\b\b\b\b\b\b\b\b\b\b\b\b\b\b\b\b\b\b\b\b\b\b\b\b\b\b\b\b\b\b\b\b\b\b\b\b\b\b\b\b\b\b\b\b\b\b\b\b\b\b\b\b\b\b\b\b\b\b\b\b\b\b\b\b\b\b\b\b\b\b\b\b\b\b\b\b\b\b\b\b\b\b\b\b\b\b\b\b\b\b\b\b\b\b\b\b\b\b\b\b\b\b\b\b\b\b\b\b\b\b\b\b\b\b\b\b\b\b\b\b\b\b\b\b\b\b\b\b\b\b\b\b\b\b\b\b\b\b\b\b\b\b\b\b\b\b\b\b\b\b\b\b\b\b\b\b\b\b\b\b\b\b\b\b\b\b\b\b\b\b\b\b\b\b\b\b\b\b\b\b\b\b\b\b\b\b\b\b\b\b\b\b\b\b\b\b\b\b\b\b\b\b\b\b\b\b\b\b\b\b\b\b\b\b\b\b\b\b\b\b\b\b\b\b\b\b\b\b\b\b\b\b\b\b\b\b\b\b\b\b\b\b\b\b\b\b\b\b\b\b\b\b\b\b\b\b\b\b\b\b\b\b\b\b\b\b\b\b\b\b\b\b\b\b\b\b\b\b\b\b\b\b\b\b\b\b\b\b\b\b\b\b\b\b\b\b\b\b\b\b\b\b\b\b\b\b\b\b\b\b\b\b\b\b\b\b\b\b\b\b\b\b\b\b\b\b\b\b\b\b\b\b\b\b\b\b\b\b\b\b\b\b\b\b\b\b\b\b\b\b\b\b\b\b\b\b\b\b\b\b\b\b\b\b\b\b\b\b\b\b\b\b\b\b\b\b\b\b\b\b\b\b\b\b\b\b\b\b\b\b\b\b\b\b\b\b\b\b\b\b\b\b\b\b\b\b\b\b\b\b\b\b\b\b\b\b\b\b\b\b\b\b\b\b\b\b\b\b\b\b\b\b\b\b\b\b\b\b\b\b\b\b\b\b\b\b\b\b\b\b\b\b\b\b\b\b\b\b\b\b\b\b\b\b\b\b\b\b\b\b\b\b\b\b\b\b\b\b\b\b\b\b\b\b\b\b\b\b\b\b\b\b\b\b\b\b\b\b\b\b\b\b\b\b\b\b\b\b\b\b\b\b\b\b\b\b\b\b\b\b\b\b\b\b\b\b\b\b\b\b\b\b\b\b\b\b\b\b\b\b\b\b\b\b\b\b\b\b\b\b\b\b\b\b\b\b\b\b\b\b\b\b\b\b\b\b\b\b\b\b\b\b\b\b\b\b\b\b\b\b\b\b\b\b\b\b\b\b\b\b\b\b\b\b\b\b\b\b\b\b\b\b\b\b\b\b\b\b\b\b\b\b\b\b\b\b\b\b\b\b\b\b\b\b\b\b\b\b\b\b\b\b\b\b\b\b\b\b\b\b\b\b\b\b\b\b\b\b\b\b\b\b\b\b\b\b\b\b\b\b\b\b\b\b\b\b\b\b\b\b\b\b\b\b\b\b\b\b\b\b\b\b\b\b\b\b\b\b\b\b\b\b\b\b\b\b\b\b\b\b\b\b\b\b\b\b\b\b\b\b\b\b\b\b\b\b\b\b\b\b\b\b\b\b\b\b\b\b\b\b\b\b\b\b\b\b\b\b\b\b\b\b\b\b\b\b\b\b\b\b\b\b\b\b\b\b\b\b\b\b\b\b\b\b\b\b\b\b\b\b\b\b\b\b\b\b\b\b\b\b\b\b\b\b\b\b\b\b\b\b\b\b\b\b\b\b\b\b\b\b\b\b\b\b\b\b\b\b\b\b\b\b\b\b\b\b\b\b\b\b\b\b\b\b\b\b\b\b\b\b\b\b\b\b\b\b\b\b\b\b\b\b\b\b\b\b\b\b\b\b\b\b\b\b\b\b\b\b\b\b\b\b\b\b\b\b\b\b\b\b\b\b\b\b\b\b\b\b\b\b\b\b\b\b\b\b\b\b\b\b\b\b\b\b\b\b\b\b\b\b\b\b\b\b\b\b\b\b\b\b\b\b\b\b\b\b\b\b\b\b\b\b\b\b\b\b\b\b\b\b\b\b\b\b\b\b\b\b\b\b\b\b\b\b\b\b\b\b\b\b\b\b\b\b\b\b\b\b\b\b\b\b\b\b\b\b\b\b\b\b\b\b\b\b\b\b\b\b\b\b\b\b\b\b\b\b\b\b\b\b\b\b\b\b\b\b\b\b\b\b\b\b\b\b\b\b\b\b\b\b\b\b\b\b\b\b\b\b\b\b\b\b\b\b\b\b\b\b\b\b\b\b\b\b\b\b\b\b\b\b\b\b\b\b\b\b\b\b\b\b\b\b\b\b\b\b\b\b\b\b\b\b\b\b\b\b\b\b\b\b\b\b\b\b\b\b\b\b\b\b\b\b\b\b\b\b\b\b\b\b\b\b\b\b\b\b\b\b\b\b\b\b\b\b\b\b\b\b\b\b\b\b\b\b\b\b\b\b\b\b\b\b\b\b\b\b\b\b\b\b\b\b\b\b\b\b\b\b\b\b\b\b\b\b\b\b\b\b\b\b\b\b\b\b\b\b\b\b\b\b\b\b\b\b\b\b\b\b\b\b\b\b\b\b\b\b\b\b\b\b\b\b\b\b\b\b\b\b\b\b\b\b\b\b\b\b\b\b\b\b\b\b\b\b\b\b\b\b\b\b\b\b\b\b\b\b\b\b\b\b\b\b\b\b\b\b\b\b\b\b\b\b\b\b\b\b\b\b\b\b\b\b\b\b\b\b\b\b\b\b\b\b\b\b\b\b\b\b\b\b\b\b\b\b\b\b\b\b\b\b\b\b\b\b\b\b\b\b\b\b\b\b\b\b\b\b\b\b\b\b\b\b\b\b\b\b\b\b\b\b\b\b\b\b\b\b\b\b\b\b\b\b\b\b\b\b\b\b\b\b\b\b\b\b\b\b\b\b\b\b\b\b\b\b\b\b\b\b\b\b\b\b\b\b\b\b\b\b\b\b\b\b\b\b\b\b\b\b\b\b\b\b\b\b\b\b\b\b\b\b\b\b\b\b\b\b\b\b\b\b\b\b\b\b\b\b\b\b\b\b\b\b\b\b\b\b\b\b\b\b\b\b\b\b\b\b\b\b\b\b\b\b\b\b\b\b\b\b\b\b\b\b\b\b\b\b\b\b\b\b\b\b\b\b\b\b\b\b\b\b\b\b\b\b\b\b\b\b\b\b\b\b\b\b\b\b\b\b\b\b\b\b\b\b\b\b\b\b\b\b\b\b\b\b\b\b\b\b\b\b\b\b\b\b\b\b\b\b\b\b\b\b\b\b\b\b\b\b\b\b\b\b\b\b\b\b\b\b\b\b\b\b\b\b\b\b\b\b\b\b\b\b\b\b\b\b\b\b\b\b\b\b\b\b\b\b\b\b\b\b\b\b\b\b\b\b\b\b\b\b\b\b\b\b\b\b\b\b\b\b\b\b\b\b\b\b\b\b\b\b\b\b\b\b\b\b\b\b\b\b\b\b\b\b\b\b\b\b\b\b\b\b\b\b\b\b\b\b\b\b\b\b\b\b\b\b\b\b\b\b\b\b\b\b\b\b\b\b\b\b\b\b\b\b\b\b\b\b\b\b\b\b\b\b\b\b\b\b\b\b\b\b\b\b\b\b\b\b\b\b\b\b\b\b\b\b\b\b\b\b\b\b\b\b\b\b\b\b\b\b\b\b\b\b\b\b\b\b\b\b\b\b\b\b\b\b\b\b\b\b\b\b\b\b\b\b\b\b\b\b\b\b\b\b\b\b\b\b\b\b\b\b\b\b\b\b\b\b\b\b\b\b\b\b\b\b\b\b\b\b\b\b\b\b\b\b\b\b\b\b\b\b\b\b\b\b\b\b\b\b\b\b\b\b\b\b\b\b\b\b\b\b\b\b\b\b\b\b\b\b\b\b\b\b\b\b\b\b\b\b\b\b\b\b\b\b\b\b\b\b\b\b\b\b\b\b\b\b\b\b\b\b\b\b\b\b\b\b\b\b\b\b\b\b\b\b\b\b\b\b\b\b\b\b\b\b\b\b\b\b\b\b\b\b\b\b\b\b\b\b\b\b\b\b\b\b\b\b\b\b\b\b\b\b\b\b\b\b\b\b\b\b\b\b\b\b\b\b\b\b\b\b\b\b\b\b\b\b\b\b\b\b\b\b\b\b\b\b\b\b\b\b\b\b\b\b\b\b\b\b\b\b\b\b\b\b\b\b\b\b\b\b\b\b\b\b\b\b\b\b\b\b\b\b\b\b\b\b\b\b\b\b\b\b\b\b\b\b\b\b\b\b\b\b\b\b\b\b\b\b\b\b\b\b\b\b\b\b\b\b\b\b\b\b\b\b\b\b\b\b\b\b\b\b\b\b\b\b\b\b\b\b\b\b\b\b\b\b\b\b\b\b\b\b\b\b\b\b\b\b\b\b\b\b\b\b\b\b\b\b\b\b\b\b\b\b\b\b\b\b\b\b\b\b\b\b\b\b\b\b\b\b\b\b\b\b\b\b\b\b\b\b\b\b\b\b\b\b\b\b\b\b\b\b\b\b\b\b\b\b\b\b\b\b\b\b\b\b\b\b\b\b\b\b\b\b\b\b\b\b\b\b\b\b\b\b\b\b\b\b\b\b\b\b\b\b\b\b\b\b\b\b\b\b\b\b\b\b\b\b\b\b\b\b\b\b\b\b\b\b\b\b\b\b\b\b\b\b\b\b\b\b\b\b\b\b\b\b\b\b\b\b\b\b\b\b\b\b\b\b\b\b\b\b\b\b\b\b\b\b\b\b\b\b\b\b\b\b\b\b\b\b\b\b\b\b\b\b\b\b\b\b\b\b\b\b\b\b\b\b\b\b\b\b\b\b\b\b\b\b\b\b\b\b\b\b\b\b\b\b\b\b\b\b\b\b\b\b\b\b\b\b\b\b\b\b\b\b\b\b\b\b\b\b\b\b\b\b\b\b\b\b\b\b\b\b\b\b\b\b\b\b\b\b\b\b\b\b\b\b\b\b\b\b\b\b\b\b\b\b\b\b\b\b\b\b\b\b\b\b\b\b\b\b\b\b\b\b\b\b\b\b\b\b\b\b\b\b\b\b\b\b\b\b\b\b\b\b\b\b\b\b\b\b\b\b\b\b\b\b\b\b\b\b\b\b\b\b\b\b\b\b\b\b\b\b\b\b\b\b\b\b\b\b\b\b\b\b\b\b\b\b\b\b\b\b\b\b\b\b\b\b\b\b\b\b\b\b\b\b\b\b\b\b\b\b\b\b\b\b\b\b\b\b\b\b\b\b\b\b\b\b\b\b\b\b\b\b\b\b\b\b\b\b\b\b\b\b\b\b\b\b\b\b\b\b\b\b\b\b\b\b\b\b\b\b\b\b\b\b\b\b\b\b\b\b\b\b\b\b\b\b\b\b\b\b\b\b\b\b\b\b\b\b\b\b\b\b\b\b\b\b\b\b\b\b\b\b\b\b\b\b\b\b\b\b\b\b\b\b\b\b\b\b\b\b\b\b\b\b\b\b\b\b\b\b\b\b\b\b\b\b\b\b\b\b\b\b\b\b\b\b\b\b\b\b\b\b\b\b\b\b\b\b\b\b\b\b\b\b\b\b\b\b\b\b\b\b\b\b\b\b\b\b\b\b\b\b\b\b\b\b\b\b\b\b\b\b\b\b\b\b\b\b\b\b\b\b\b\b\b\b\b\b\b\b\b\b\b\b\b\b\b\b\b\b\b\b\b\b\b\b\b\b\b\b\b\b\b\b\b\b\b\b\b\b\b\b\b\b\b\b\b\b\b\b\b\b\b\b\b\b\b\b\b\b\b\b\b\b\b\b\b\b\b\b\b\b\b\b\b\b\b\b\b\b\b\b\b\b\b\b\b\b\b\b\b\b\b\b\b\b\b\b\b\b\b\b\b\b\b\b\b\b\b\b\b\b\b\b\b\b\b\b\b\b\b\b\b\b\b\b\b\b\b\b\b\b\b\b\b\b\b\b\b\b\b\b\b\b\b\b\b\b\b\b\b\b\b\b\b\b\b\b\b\b\b\b\b\b\b\b\b\b\b\b\b\b\b\b\b\b\b\b\b\b\b\b\b\b\b\b\b\b\b\b\b\b\b\b\b\b\b\b\b\b\b\b\b\b\b\b\b\b\b\b\b\b\b\b\b\b\b\b\b\b\b\b\b\b\b\b\b\b\b\b\b\b\b\b\b\b\b\b\b\b\b\b\b\b\b\b\b\b\b\b\b\b\b\b\b\b\b\b\b\b\b\b\b\b\b\b\b\b\b\b\b\b\b\b\b\b\b\b\b\b\b\b\b\b\b\b\b\b\b\b\b\b\b\b\b\b\b\b\b\b\b\b\b\b\b\b\b\b\b\b\b\b\b\b\b\b\b\b\b\b\b\b\b\b\b\b\b\b\b\b\b\b\b\b\b\b\b\b\b\b\b\b\b\b\b\b\b\b\b\b\b\b\b\b\b\b\b\b\b\b\b\b\b\b\b\b\b\b\b\b\b\b\b\b\b\b\b\n"
     ]
    }
   ],
   "source": [
    "model = HoneypotKeras()\n",
    "model.build_model()\n",
    "model.fit(lr=0.01, epochs=1)\n",
    "#model.fit(lr=0.001, epochs=10)\n",
    "#model.prepare_submission('keras')"
   ]
  },
  {
   "cell_type": "code",
   "execution_count": 15,
   "metadata": {
    "collapsed": false
   },
   "outputs": [
    {
     "data": {
      "text/plain": [
       "user_agent\n",
       "24gt2wreg24h                4\n",
       "Avaya one-X Deskphone     288\n",
       "Deskphone                  16\n",
       "FreePBX 1.8                 5\n",
       "HiDude UA v3.81             2\n",
       "SimpleSIP V4.3              2\n",
       "Twilio Gateway             14\n",
       "caller                     17\n",
       "eyeBeam release 3006o      18\n",
       "friendly-scanner            2\n",
       "pplsip                   1002\n",
       "sipcli/v1.8               850\n",
       "dtype: int64"
      ]
     },
     "execution_count": 15,
     "metadata": {},
     "output_type": "execute_result"
    }
   ],
   "source": [
    "X.groupby(['user_agent']).size()"
   ]
  },
  {
   "cell_type": "code",
   "execution_count": null,
   "metadata": {
    "collapsed": true
   },
   "outputs": [],
   "source": []
  },
  {
   "cell_type": "code",
   "execution_count": null,
   "metadata": {
    "collapsed": true
   },
   "outputs": [],
   "source": []
  }
 ],
 "metadata": {
  "kernelspec": {
   "display_name": "Python 2",
   "language": "python",
   "name": "python2"
  },
  "language_info": {
   "codemirror_mode": {
    "name": "ipython",
    "version": 2
   },
   "file_extension": ".py",
   "mimetype": "text/x-python",
   "name": "python",
   "nbconvert_exporter": "python",
   "pygments_lexer": "ipython2",
   "version": "2.7.10"
  }
 },
 "nbformat": 4,
 "nbformat_minor": 2
}
