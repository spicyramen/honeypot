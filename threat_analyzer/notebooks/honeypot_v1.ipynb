{
 "cells": [
  {
   "cell_type": "code",
   "execution_count": 1,
   "metadata": {
    "collapsed": true
   },
   "outputs": [],
   "source": [
    "import pandas as pd"
   ]
  },
  {
   "cell_type": "code",
   "execution_count": 2,
   "metadata": {
    "collapsed": false
   },
   "outputs": [
    {
     "name": "stderr",
     "output_type": "stream",
     "text": [
      "Using TensorFlow backend.\n"
     ]
    }
   ],
   "source": [
    "from keras.models import Sequential\n",
    "from keras.layers import Dense\n",
    "from keras.wrappers.scikit_learn import KerasClassifier\n",
    "from sklearn.metrics import accuracy_score\n",
    "from sklearn.model_selection import StratifiedKFold, cross_val_score"
   ]
  },
  {
   "cell_type": "code",
   "execution_count": 3,
   "metadata": {
    "collapsed": true
   },
   "outputs": [],
   "source": [
    "FILENAME = 'data/honeypot_dataset.csv'"
   ]
  },
  {
   "cell_type": "code",
   "execution_count": 4,
   "metadata": {
    "collapsed": true
   },
   "outputs": [],
   "source": [
    "EPOCHS = 30\n",
    "BATCH_SIZE = 32\n",
    "RANDOM_STATE = 1337\n",
    "NUM_FOLDS = 10\n",
    "LABEL = 'toll_fraud'"
   ]
  },
  {
   "cell_type": "code",
   "execution_count": 5,
   "metadata": {
    "collapsed": false
   },
   "outputs": [],
   "source": [
    "dataset = pd.read_csv(FILENAME)"
   ]
  },
  {
   "cell_type": "code",
   "execution_count": 6,
   "metadata": {
    "collapsed": true
   },
   "outputs": [],
   "source": [
    "COLUMNS = ['ruri', 'ruri_user', 'ruri_domain', 'from_user', 'from_domain', 'from_tag', 'to_user', 'contact_user',\n",
    "           'callid', 'content_type', 'user_agent',\n",
    "           'source_ip', 'source_port', 'destination_port', 'contact_ip', 'contact_port']\n",
    "CATEGORICAL = ['ruri', 'ruri_user', 'ruri_domain', 'from_user', 'from_domain', 'from_tag', 'to_user', 'contact_user',\n",
    "               'callid', 'content_type', 'user_agent',\n",
    "               'source_ip', 'contact_ip']\n",
    "CONTINUOUS = ['source_port', 'destination_port', 'contact_port']\n",
    "DROPPED_FEATURES = ['ruri','ruri_domain', 'callid', 'from_tag', 'content_type']"
   ]
  },
  {
   "cell_type": "code",
   "execution_count": 7,
   "metadata": {
    "collapsed": false
   },
   "outputs": [
    {
     "data": {
      "text/plain": [
       "Index([u'ruri', u'ruri_user', u'ruri_domain', u'from_user', u'from_domain',\n",
       "       u'from_tag', u'to_user', u'contact_user', u'callid', u'content_type',\n",
       "       u'user_agent', u'source_ip', u'source_port', u'destination_port',\n",
       "       u'contact_ip', u'contact_port', u'toll_fraud'],\n",
       "      dtype='object')"
      ]
     },
     "execution_count": 7,
     "metadata": {},
     "output_type": "execute_result"
    }
   ],
   "source": [
    "dataset.columns"
   ]
  },
  {
   "cell_type": "code",
   "execution_count": 8,
   "metadata": {
    "collapsed": false
   },
   "outputs": [
    {
     "data": {
      "text/plain": [
       "ruri                object\n",
       "ruri_user           object\n",
       "ruri_domain         object\n",
       "from_user           object\n",
       "from_domain         object\n",
       "from_tag            object\n",
       "to_user             object\n",
       "contact_user        object\n",
       "callid              object\n",
       "content_type        object\n",
       "user_agent          object\n",
       "source_ip           object\n",
       "source_port          int64\n",
       "destination_port     int64\n",
       "contact_ip          object\n",
       "contact_port         int64\n",
       "toll_fraud           int64\n",
       "dtype: object"
      ]
     },
     "execution_count": 8,
     "metadata": {},
     "output_type": "execute_result"
    }
   ],
   "source": [
    "dataset.dtypes"
   ]
  },
  {
   "cell_type": "code",
   "execution_count": null,
   "metadata": {
    "collapsed": false
   },
   "outputs": [],
   "source": [
    "# dataset.from_user.value_counts()"
   ]
  },
  {
   "cell_type": "code",
   "execution_count": null,
   "metadata": {
    "collapsed": false
   },
   "outputs": [],
   "source": [
    "# dataset.isnull().sum()"
   ]
  },
  {
   "cell_type": "code",
   "execution_count": 9,
   "metadata": {
    "collapsed": false
   },
   "outputs": [
    {
     "data": {
      "text/plain": [
       "1    2206\n",
       "0      14\n",
       "Name: toll_fraud, dtype: int64"
      ]
     },
     "execution_count": 9,
     "metadata": {},
     "output_type": "execute_result"
    }
   ],
   "source": [
    "dataset[LABEL].value_counts()"
   ]
  },
  {
   "cell_type": "code",
   "execution_count": 10,
   "metadata": {
    "collapsed": false
   },
   "outputs": [],
   "source": [
    "dataset = dataset.drop(DROPPED_FEATURES, axis=1)\n"
   ]
  },
  {
   "cell_type": "code",
   "execution_count": 11,
   "metadata": {
    "collapsed": false
   },
   "outputs": [
    {
     "data": {
      "text/plain": [
       "ruri_user           object\n",
       "from_user           object\n",
       "from_domain         object\n",
       "to_user             object\n",
       "contact_user        object\n",
       "user_agent          object\n",
       "source_ip           object\n",
       "source_port          int64\n",
       "destination_port     int64\n",
       "contact_ip          object\n",
       "contact_port         int64\n",
       "toll_fraud           int64\n",
       "dtype: object"
      ]
     },
     "execution_count": 11,
     "metadata": {},
     "output_type": "execute_result"
    }
   ],
   "source": [
    "dataset.dtypes"
   ]
  },
  {
   "cell_type": "code",
   "execution_count": 12,
   "metadata": {
    "collapsed": false
   },
   "outputs": [
    {
     "data": {
      "text/plain": [
       "1    2206\n",
       "0      14\n",
       "Name: toll_fraud, dtype: int64"
      ]
     },
     "execution_count": 12,
     "metadata": {},
     "output_type": "execute_result"
    }
   ],
   "source": [
    "dataset[LABEL].value_counts()\n",
    "# dataset.columns.to_series().groupby(dataset.dtypes).groups"
   ]
  },
  {
   "cell_type": "code",
   "execution_count": 13,
   "metadata": {
    "collapsed": true
   },
   "outputs": [],
   "source": [
    "def encode_one_hot(df, column, axis=1):\n",
    "    return df.join(pd.get_dummies(df[column], column)).drop(column, axis=axis)"
   ]
  },
  {
   "cell_type": "code",
   "execution_count": 14,
   "metadata": {
    "collapsed": false
   },
   "outputs": [],
   "source": [
    "df_train = dataset.sample(frac=0.8, random_state=50)"
   ]
  },
  {
   "cell_type": "code",
   "execution_count": 15,
   "metadata": {
    "collapsed": false
   },
   "outputs": [
    {
     "name": "stdout",
     "output_type": "stream",
     "text": [
      "<class 'pandas.core.frame.DataFrame'>\n",
      "Int64Index: 1776 entries, 2189 to 797\n",
      "Data columns (total 12 columns):\n",
      "ruri_user           1776 non-null object\n",
      "from_user           1776 non-null object\n",
      "from_domain         1776 non-null object\n",
      "to_user             1776 non-null object\n",
      "contact_user        1775 non-null object\n",
      "user_agent          1776 non-null object\n",
      "source_ip           1776 non-null object\n",
      "source_port         1776 non-null int64\n",
      "destination_port    1776 non-null int64\n",
      "contact_ip          1776 non-null object\n",
      "contact_port        1776 non-null int64\n",
      "toll_fraud          1776 non-null int64\n",
      "dtypes: int64(4), object(8)\n",
      "memory usage: 180.4+ KB\n"
     ]
    }
   ],
   "source": [
    "df_train.info()"
   ]
  },
  {
   "cell_type": "code",
   "execution_count": 16,
   "metadata": {
    "collapsed": false
   },
   "outputs": [],
   "source": [
    "df_test = dataset.drop(df_train.index)"
   ]
  },
  {
   "cell_type": "code",
   "execution_count": 17,
   "metadata": {
    "collapsed": false
   },
   "outputs": [
    {
     "name": "stdout",
     "output_type": "stream",
     "text": [
      "<class 'pandas.core.frame.DataFrame'>\n",
      "Int64Index: 444 entries, 0 to 2216\n",
      "Data columns (total 12 columns):\n",
      "ruri_user           444 non-null object\n",
      "from_user           444 non-null object\n",
      "from_domain         444 non-null object\n",
      "to_user             444 non-null object\n",
      "contact_user        444 non-null object\n",
      "user_agent          444 non-null object\n",
      "source_ip           444 non-null object\n",
      "source_port         444 non-null int64\n",
      "destination_port    444 non-null int64\n",
      "contact_ip          444 non-null object\n",
      "contact_port        444 non-null int64\n",
      "toll_fraud          444 non-null int64\n",
      "dtypes: int64(4), object(8)\n",
      "memory usage: 45.1+ KB\n"
     ]
    }
   ],
   "source": [
    "df_test.info()"
   ]
  },
  {
   "cell_type": "code",
   "execution_count": 21,
   "metadata": {
    "collapsed": true
   },
   "outputs": [],
   "source": [
    "dataset = pd.concat([df_train.drop(LABEL, axis=1), df_test], ignore_index=True)"
   ]
  },
  {
   "cell_type": "code",
   "execution_count": 22,
   "metadata": {
    "collapsed": false
   },
   "outputs": [
    {
     "data": {
      "text/html": [
       "<div>\n",
       "<style scoped>\n",
       "    .dataframe tbody tr th:only-of-type {\n",
       "        vertical-align: middle;\n",
       "    }\n",
       "\n",
       "    .dataframe tbody tr th {\n",
       "        vertical-align: top;\n",
       "    }\n",
       "\n",
       "    .dataframe thead th {\n",
       "        text-align: right;\n",
       "    }\n",
       "</style>\n",
       "<table border=\"1\" class=\"dataframe\">\n",
       "  <thead>\n",
       "    <tr style=\"text-align: right;\">\n",
       "      <th></th>\n",
       "      <th>contact_port</th>\n",
       "      <th>destination_port</th>\n",
       "      <th>source_port</th>\n",
       "      <th>toll_fraud</th>\n",
       "    </tr>\n",
       "  </thead>\n",
       "  <tbody>\n",
       "    <tr>\n",
       "      <th>count</th>\n",
       "      <td>2220.000000</td>\n",
       "      <td>2220.000000</td>\n",
       "      <td>2220.000000</td>\n",
       "      <td>444.000000</td>\n",
       "    </tr>\n",
       "    <tr>\n",
       "      <th>mean</th>\n",
       "      <td>29135.528829</td>\n",
       "      <td>5061.801802</td>\n",
       "      <td>32942.348198</td>\n",
       "      <td>0.993243</td>\n",
       "    </tr>\n",
       "    <tr>\n",
       "      <th>std</th>\n",
       "      <td>26230.651564</td>\n",
       "      <td>84.895272</td>\n",
       "      <td>24859.318449</td>\n",
       "      <td>0.082014</td>\n",
       "    </tr>\n",
       "    <tr>\n",
       "      <th>min</th>\n",
       "      <td>0.000000</td>\n",
       "      <td>5060.000000</td>\n",
       "      <td>5060.000000</td>\n",
       "      <td>0.000000</td>\n",
       "    </tr>\n",
       "    <tr>\n",
       "      <th>25%</th>\n",
       "      <td>5070.000000</td>\n",
       "      <td>5060.000000</td>\n",
       "      <td>5072.000000</td>\n",
       "      <td>1.000000</td>\n",
       "    </tr>\n",
       "    <tr>\n",
       "      <th>50%</th>\n",
       "      <td>5076.000000</td>\n",
       "      <td>5060.000000</td>\n",
       "      <td>42118.500000</td>\n",
       "      <td>1.000000</td>\n",
       "    </tr>\n",
       "    <tr>\n",
       "      <th>75%</th>\n",
       "      <td>56560.000000</td>\n",
       "      <td>5060.000000</td>\n",
       "      <td>56560.000000</td>\n",
       "      <td>1.000000</td>\n",
       "    </tr>\n",
       "    <tr>\n",
       "      <th>max</th>\n",
       "      <td>65515.000000</td>\n",
       "      <td>9060.000000</td>\n",
       "      <td>65515.000000</td>\n",
       "      <td>1.000000</td>\n",
       "    </tr>\n",
       "  </tbody>\n",
       "</table>\n",
       "</div>"
      ],
      "text/plain": [
       "       contact_port  destination_port   source_port  toll_fraud\n",
       "count   2220.000000       2220.000000   2220.000000  444.000000\n",
       "mean   29135.528829       5061.801802  32942.348198    0.993243\n",
       "std    26230.651564         84.895272  24859.318449    0.082014\n",
       "min        0.000000       5060.000000   5060.000000    0.000000\n",
       "25%     5070.000000       5060.000000   5072.000000    1.000000\n",
       "50%     5076.000000       5060.000000  42118.500000    1.000000\n",
       "75%    56560.000000       5060.000000  56560.000000    1.000000\n",
       "max    65515.000000       9060.000000  65515.000000    1.000000"
      ]
     },
     "execution_count": 22,
     "metadata": {},
     "output_type": "execute_result"
    }
   ],
   "source": [
    "dataset.describe()"
   ]
  },
  {
   "cell_type": "code",
   "execution_count": 26,
   "metadata": {
    "collapsed": true
   },
   "outputs": [],
   "source": [
    "def fix_na(data):\n",
    "    \"\"\"Fill na's with test (in the case of contact_user), and with application/sdp in the case of content_type.\"\"\"\n",
    "    na_vars = {\"contact_user\": \"test\", \"content_type\": \"application/sdp\"}\n",
    "    return data.fillna(na_vars)"
   ]
  },
  {
   "cell_type": "code",
   "execution_count": 28,
   "metadata": {
    "collapsed": false
   },
   "outputs": [],
   "source": [
    "dataset = fix_na(dataset)"
   ]
  },
  {
   "cell_type": "code",
   "execution_count": 29,
   "metadata": {
    "collapsed": false
   },
   "outputs": [
    {
     "name": "stdout",
     "output_type": "stream",
     "text": [
      "<class 'pandas.core.frame.DataFrame'>\n",
      "RangeIndex: 2220 entries, 0 to 2219\n",
      "Data columns (total 12 columns):\n",
      "contact_ip          2220 non-null object\n",
      "contact_port        2220 non-null int64\n",
      "contact_user        2220 non-null object\n",
      "destination_port    2220 non-null int64\n",
      "from_domain         2220 non-null object\n",
      "from_user           2220 non-null object\n",
      "ruri_user           2220 non-null object\n",
      "source_ip           2220 non-null object\n",
      "source_port         2220 non-null int64\n",
      "to_user             2220 non-null object\n",
      "toll_fraud          444 non-null float64\n",
      "user_agent          2220 non-null object\n",
      "dtypes: float64(1), int64(3), object(8)\n",
      "memory usage: 208.2+ KB\n"
     ]
    }
   ],
   "source": [
    "dataset.info()"
   ]
  },
  {
   "cell_type": "code",
   "execution_count": 30,
   "metadata": {
    "collapsed": true
   },
   "outputs": [],
   "source": [
    "dataset = encode_one_hot(dataset, 'ruri_user')\n",
    "dataset = encode_one_hot(dataset, 'from_user')\n",
    "dataset = encode_one_hot(dataset, 'from_domain')\n",
    "dataset = encode_one_hot(dataset, 'to_user')\n",
    "dataset = encode_one_hot(dataset, 'contact_user')\n",
    "dataset = encode_one_hot(dataset, 'user_agent')\n",
    "dataset = encode_one_hot(dataset, 'source_ip')\n",
    "dataset = encode_one_hot(dataset, 'contact_ip')"
   ]
  },
  {
   "cell_type": "code",
   "execution_count": 31,
   "metadata": {
    "collapsed": false
   },
   "outputs": [
    {
     "data": {
      "text/html": [
       "<div>\n",
       "<style scoped>\n",
       "    .dataframe tbody tr th:only-of-type {\n",
       "        vertical-align: middle;\n",
       "    }\n",
       "\n",
       "    .dataframe tbody tr th {\n",
       "        vertical-align: top;\n",
       "    }\n",
       "\n",
       "    .dataframe thead th {\n",
       "        text-align: right;\n",
       "    }\n",
       "</style>\n",
       "<table border=\"1\" class=\"dataframe\">\n",
       "  <thead>\n",
       "    <tr style=\"text-align: right;\">\n",
       "      <th></th>\n",
       "      <th>count</th>\n",
       "      <th>mean</th>\n",
       "      <th>std</th>\n",
       "      <th>min</th>\n",
       "      <th>25%</th>\n",
       "      <th>50%</th>\n",
       "      <th>75%</th>\n",
       "      <th>max</th>\n",
       "    </tr>\n",
       "  </thead>\n",
       "  <tbody>\n",
       "    <tr>\n",
       "      <th>contact_port</th>\n",
       "      <td>2220.0</td>\n",
       "      <td>29135.528829</td>\n",
       "      <td>26230.651564</td>\n",
       "      <td>0.0</td>\n",
       "      <td>5070.0</td>\n",
       "      <td>5076.0</td>\n",
       "      <td>56560.0</td>\n",
       "      <td>65515.0</td>\n",
       "    </tr>\n",
       "    <tr>\n",
       "      <th>destination_port</th>\n",
       "      <td>2220.0</td>\n",
       "      <td>5061.801802</td>\n",
       "      <td>84.895272</td>\n",
       "      <td>5060.0</td>\n",
       "      <td>5060.0</td>\n",
       "      <td>5060.0</td>\n",
       "      <td>5060.0</td>\n",
       "      <td>9060.0</td>\n",
       "    </tr>\n",
       "    <tr>\n",
       "      <th>source_port</th>\n",
       "      <td>2220.0</td>\n",
       "      <td>32942.348198</td>\n",
       "      <td>24859.318449</td>\n",
       "      <td>5060.0</td>\n",
       "      <td>5072.0</td>\n",
       "      <td>42118.5</td>\n",
       "      <td>56560.0</td>\n",
       "      <td>65515.0</td>\n",
       "    </tr>\n",
       "    <tr>\n",
       "      <th>toll_fraud</th>\n",
       "      <td>444.0</td>\n",
       "      <td>0.993243</td>\n",
       "      <td>0.082014</td>\n",
       "      <td>0.0</td>\n",
       "      <td>1.0</td>\n",
       "      <td>1.0</td>\n",
       "      <td>1.0</td>\n",
       "      <td>1.0</td>\n",
       "    </tr>\n",
       "    <tr>\n",
       "      <th>ruri_user_#972592277524</th>\n",
       "      <td>2220.0</td>\n",
       "      <td>0.000901</td>\n",
       "      <td>0.030008</td>\n",
       "      <td>0.0</td>\n",
       "      <td>0.0</td>\n",
       "      <td>0.0</td>\n",
       "      <td>0.0</td>\n",
       "      <td>1.0</td>\n",
       "    </tr>\n",
       "    <tr>\n",
       "      <th>ruri_user_*+31203697460</th>\n",
       "      <td>2220.0</td>\n",
       "      <td>0.002252</td>\n",
       "      <td>0.047415</td>\n",
       "      <td>0.0</td>\n",
       "      <td>0.0</td>\n",
       "      <td>0.0</td>\n",
       "      <td>0.0</td>\n",
       "      <td>1.0</td>\n",
       "    </tr>\n",
       "    <tr>\n",
       "      <th>ruri_user_*0031203697460</th>\n",
       "      <td>2220.0</td>\n",
       "      <td>0.002252</td>\n",
       "      <td>0.047415</td>\n",
       "      <td>0.0</td>\n",
       "      <td>0.0</td>\n",
       "      <td>0.0</td>\n",
       "      <td>0.0</td>\n",
       "      <td>1.0</td>\n",
       "    </tr>\n",
       "    <tr>\n",
       "      <th>ruri_user_*0048322132924</th>\n",
       "      <td>2220.0</td>\n",
       "      <td>0.000450</td>\n",
       "      <td>0.021224</td>\n",
       "      <td>0.0</td>\n",
       "      <td>0.0</td>\n",
       "      <td>0.0</td>\n",
       "      <td>0.0</td>\n",
       "      <td>1.0</td>\n",
       "    </tr>\n",
       "    <tr>\n",
       "      <th>ruri_user_*011972592277524</th>\n",
       "      <td>2220.0</td>\n",
       "      <td>0.000901</td>\n",
       "      <td>0.030008</td>\n",
       "      <td>0.0</td>\n",
       "      <td>0.0</td>\n",
       "      <td>0.0</td>\n",
       "      <td>0.0</td>\n",
       "      <td>1.0</td>\n",
       "    </tr>\n",
       "    <tr>\n",
       "      <th>ruri_user_*048322132924</th>\n",
       "      <td>2220.0</td>\n",
       "      <td>0.000450</td>\n",
       "      <td>0.021224</td>\n",
       "      <td>0.0</td>\n",
       "      <td>0.0</td>\n",
       "      <td>0.0</td>\n",
       "      <td>0.0</td>\n",
       "      <td>1.0</td>\n",
       "    </tr>\n",
       "    <tr>\n",
       "      <th>ruri_user_*31203697460</th>\n",
       "      <td>2220.0</td>\n",
       "      <td>0.002252</td>\n",
       "      <td>0.047415</td>\n",
       "      <td>0.0</td>\n",
       "      <td>0.0</td>\n",
       "      <td>0.0</td>\n",
       "      <td>0.0</td>\n",
       "      <td>1.0</td>\n",
       "    </tr>\n",
       "    <tr>\n",
       "      <th>ruri_user_*972592277524</th>\n",
       "      <td>2220.0</td>\n",
       "      <td>0.000901</td>\n",
       "      <td>0.030008</td>\n",
       "      <td>0.0</td>\n",
       "      <td>0.0</td>\n",
       "      <td>0.0</td>\n",
       "      <td>0.0</td>\n",
       "      <td>1.0</td>\n",
       "    </tr>\n",
       "    <tr>\n",
       "      <th>ruri_user_+*31203697460</th>\n",
       "      <td>2220.0</td>\n",
       "      <td>0.002252</td>\n",
       "      <td>0.047415</td>\n",
       "      <td>0.0</td>\n",
       "      <td>0.0</td>\n",
       "      <td>0.0</td>\n",
       "      <td>0.0</td>\n",
       "      <td>1.0</td>\n",
       "    </tr>\n",
       "    <tr>\n",
       "      <th>ruri_user_++31203697460</th>\n",
       "      <td>2220.0</td>\n",
       "      <td>0.002703</td>\n",
       "      <td>0.051929</td>\n",
       "      <td>0.0</td>\n",
       "      <td>0.0</td>\n",
       "      <td>0.0</td>\n",
       "      <td>0.0</td>\n",
       "      <td>1.0</td>\n",
       "    </tr>\n",
       "    <tr>\n",
       "      <th>ruri_user_++390662279104</th>\n",
       "      <td>2220.0</td>\n",
       "      <td>0.000901</td>\n",
       "      <td>0.030008</td>\n",
       "      <td>0.0</td>\n",
       "      <td>0.0</td>\n",
       "      <td>0.0</td>\n",
       "      <td>0.0</td>\n",
       "      <td>1.0</td>\n",
       "    </tr>\n",
       "    <tr>\n",
       "      <th>ruri_user_+00011972592277524</th>\n",
       "      <td>2220.0</td>\n",
       "      <td>0.003153</td>\n",
       "      <td>0.056077</td>\n",
       "      <td>0.0</td>\n",
       "      <td>0.0</td>\n",
       "      <td>0.0</td>\n",
       "      <td>0.0</td>\n",
       "      <td>1.0</td>\n",
       "    </tr>\n",
       "    <tr>\n",
       "      <th>ruri_user_+0031203697460</th>\n",
       "      <td>2220.0</td>\n",
       "      <td>0.003153</td>\n",
       "      <td>0.056077</td>\n",
       "      <td>0.0</td>\n",
       "      <td>0.0</td>\n",
       "      <td>0.0</td>\n",
       "      <td>0.0</td>\n",
       "      <td>1.0</td>\n",
       "    </tr>\n",
       "    <tr>\n",
       "      <th>ruri_user_+00390662279104</th>\n",
       "      <td>2220.0</td>\n",
       "      <td>0.000901</td>\n",
       "      <td>0.030008</td>\n",
       "      <td>0.0</td>\n",
       "      <td>0.0</td>\n",
       "      <td>0.0</td>\n",
       "      <td>0.0</td>\n",
       "      <td>1.0</td>\n",
       "    </tr>\n",
       "    <tr>\n",
       "      <th>ruri_user_+01131203697460</th>\n",
       "      <td>2220.0</td>\n",
       "      <td>0.003153</td>\n",
       "      <td>0.056077</td>\n",
       "      <td>0.0</td>\n",
       "      <td>0.0</td>\n",
       "      <td>0.0</td>\n",
       "      <td>0.0</td>\n",
       "      <td>1.0</td>\n",
       "    </tr>\n",
       "    <tr>\n",
       "      <th>ruri_user_+011390662279104</th>\n",
       "      <td>2220.0</td>\n",
       "      <td>0.000901</td>\n",
       "      <td>0.030008</td>\n",
       "      <td>0.0</td>\n",
       "      <td>0.0</td>\n",
       "      <td>0.0</td>\n",
       "      <td>0.0</td>\n",
       "      <td>1.0</td>\n",
       "    </tr>\n",
       "    <tr>\n",
       "      <th>ruri_user_+131203697460</th>\n",
       "      <td>2220.0</td>\n",
       "      <td>0.002252</td>\n",
       "      <td>0.047415</td>\n",
       "      <td>0.0</td>\n",
       "      <td>0.0</td>\n",
       "      <td>0.0</td>\n",
       "      <td>0.0</td>\n",
       "      <td>1.0</td>\n",
       "    </tr>\n",
       "    <tr>\n",
       "      <th>ruri_user_+31203697460</th>\n",
       "      <td>2220.0</td>\n",
       "      <td>0.003153</td>\n",
       "      <td>0.056077</td>\n",
       "      <td>0.0</td>\n",
       "      <td>0.0</td>\n",
       "      <td>0.0</td>\n",
       "      <td>0.0</td>\n",
       "      <td>1.0</td>\n",
       "    </tr>\n",
       "    <tr>\n",
       "      <th>ruri_user_+390662279104</th>\n",
       "      <td>2220.0</td>\n",
       "      <td>0.001351</td>\n",
       "      <td>0.036744</td>\n",
       "      <td>0.0</td>\n",
       "      <td>0.0</td>\n",
       "      <td>0.0</td>\n",
       "      <td>0.0</td>\n",
       "      <td>1.0</td>\n",
       "    </tr>\n",
       "    <tr>\n",
       "      <th>ruri_user_+442030044789</th>\n",
       "      <td>2220.0</td>\n",
       "      <td>0.001351</td>\n",
       "      <td>0.036744</td>\n",
       "      <td>0.0</td>\n",
       "      <td>0.0</td>\n",
       "      <td>0.0</td>\n",
       "      <td>0.0</td>\n",
       "      <td>1.0</td>\n",
       "    </tr>\n",
       "    <tr>\n",
       "      <th>ruri_user_+48322132924</th>\n",
       "      <td>2220.0</td>\n",
       "      <td>0.000450</td>\n",
       "      <td>0.021224</td>\n",
       "      <td>0.0</td>\n",
       "      <td>0.0</td>\n",
       "      <td>0.0</td>\n",
       "      <td>0.0</td>\n",
       "      <td>1.0</td>\n",
       "    </tr>\n",
       "    <tr>\n",
       "      <th>ruri_user_+90031203697460</th>\n",
       "      <td>2220.0</td>\n",
       "      <td>0.002703</td>\n",
       "      <td>0.051929</td>\n",
       "      <td>0.0</td>\n",
       "      <td>0.0</td>\n",
       "      <td>0.0</td>\n",
       "      <td>0.0</td>\n",
       "      <td>1.0</td>\n",
       "    </tr>\n",
       "    <tr>\n",
       "      <th>ruri_user_+900390662279104</th>\n",
       "      <td>2220.0</td>\n",
       "      <td>0.000450</td>\n",
       "      <td>0.021224</td>\n",
       "      <td>0.0</td>\n",
       "      <td>0.0</td>\n",
       "      <td>0.0</td>\n",
       "      <td>0.0</td>\n",
       "      <td>1.0</td>\n",
       "    </tr>\n",
       "    <tr>\n",
       "      <th>ruri_user_+901131203697460</th>\n",
       "      <td>2220.0</td>\n",
       "      <td>0.002252</td>\n",
       "      <td>0.047415</td>\n",
       "      <td>0.0</td>\n",
       "      <td>0.0</td>\n",
       "      <td>0.0</td>\n",
       "      <td>0.0</td>\n",
       "      <td>1.0</td>\n",
       "    </tr>\n",
       "    <tr>\n",
       "      <th>ruri_user_+9011390662279104</th>\n",
       "      <td>2220.0</td>\n",
       "      <td>0.000450</td>\n",
       "      <td>0.021224</td>\n",
       "      <td>0.0</td>\n",
       "      <td>0.0</td>\n",
       "      <td>0.0</td>\n",
       "      <td>0.0</td>\n",
       "      <td>1.0</td>\n",
       "    </tr>\n",
       "    <tr>\n",
       "      <th>ruri_user_+931203697460</th>\n",
       "      <td>2220.0</td>\n",
       "      <td>0.002703</td>\n",
       "      <td>0.051929</td>\n",
       "      <td>0.0</td>\n",
       "      <td>0.0</td>\n",
       "      <td>0.0</td>\n",
       "      <td>0.0</td>\n",
       "      <td>1.0</td>\n",
       "    </tr>\n",
       "    <tr>\n",
       "      <th>...</th>\n",
       "      <td>...</td>\n",
       "      <td>...</td>\n",
       "      <td>...</td>\n",
       "      <td>...</td>\n",
       "      <td>...</td>\n",
       "      <td>...</td>\n",
       "      <td>...</td>\n",
       "      <td>...</td>\n",
       "    </tr>\n",
       "    <tr>\n",
       "      <th>contact_ip_145.239.141.201</th>\n",
       "      <td>2220.0</td>\n",
       "      <td>0.000450</td>\n",
       "      <td>0.021224</td>\n",
       "      <td>0.0</td>\n",
       "      <td>0.0</td>\n",
       "      <td>0.0</td>\n",
       "      <td>0.0</td>\n",
       "      <td>1.0</td>\n",
       "    </tr>\n",
       "    <tr>\n",
       "      <th>contact_ip_145.239.244.97</th>\n",
       "      <td>2220.0</td>\n",
       "      <td>0.000901</td>\n",
       "      <td>0.030008</td>\n",
       "      <td>0.0</td>\n",
       "      <td>0.0</td>\n",
       "      <td>0.0</td>\n",
       "      <td>0.0</td>\n",
       "      <td>1.0</td>\n",
       "    </tr>\n",
       "    <tr>\n",
       "      <th>contact_ip_158.69.249.92</th>\n",
       "      <td>2220.0</td>\n",
       "      <td>0.000450</td>\n",
       "      <td>0.021224</td>\n",
       "      <td>0.0</td>\n",
       "      <td>0.0</td>\n",
       "      <td>0.0</td>\n",
       "      <td>0.0</td>\n",
       "      <td>1.0</td>\n",
       "    </tr>\n",
       "    <tr>\n",
       "      <th>contact_ip_162.244.80.164</th>\n",
       "      <td>2220.0</td>\n",
       "      <td>0.001351</td>\n",
       "      <td>0.036744</td>\n",
       "      <td>0.0</td>\n",
       "      <td>0.0</td>\n",
       "      <td>0.0</td>\n",
       "      <td>0.0</td>\n",
       "      <td>1.0</td>\n",
       "    </tr>\n",
       "    <tr>\n",
       "      <th>contact_ip_172.18.0.203</th>\n",
       "      <td>2220.0</td>\n",
       "      <td>0.000450</td>\n",
       "      <td>0.021224</td>\n",
       "      <td>0.0</td>\n",
       "      <td>0.0</td>\n",
       "      <td>0.0</td>\n",
       "      <td>0.0</td>\n",
       "      <td>1.0</td>\n",
       "    </tr>\n",
       "    <tr>\n",
       "      <th>contact_ip_172.18.0.209</th>\n",
       "      <td>2220.0</td>\n",
       "      <td>0.001802</td>\n",
       "      <td>0.042419</td>\n",
       "      <td>0.0</td>\n",
       "      <td>0.0</td>\n",
       "      <td>0.0</td>\n",
       "      <td>0.0</td>\n",
       "      <td>1.0</td>\n",
       "    </tr>\n",
       "    <tr>\n",
       "      <th>contact_ip_172.18.1.81</th>\n",
       "      <td>2220.0</td>\n",
       "      <td>0.000901</td>\n",
       "      <td>0.030008</td>\n",
       "      <td>0.0</td>\n",
       "      <td>0.0</td>\n",
       "      <td>0.0</td>\n",
       "      <td>0.0</td>\n",
       "      <td>1.0</td>\n",
       "    </tr>\n",
       "    <tr>\n",
       "      <th>contact_ip_172.18.14.106</th>\n",
       "      <td>2220.0</td>\n",
       "      <td>0.001351</td>\n",
       "      <td>0.036744</td>\n",
       "      <td>0.0</td>\n",
       "      <td>0.0</td>\n",
       "      <td>0.0</td>\n",
       "      <td>0.0</td>\n",
       "      <td>1.0</td>\n",
       "    </tr>\n",
       "    <tr>\n",
       "      <th>contact_ip_172.18.4.229</th>\n",
       "      <td>2220.0</td>\n",
       "      <td>0.000450</td>\n",
       "      <td>0.021224</td>\n",
       "      <td>0.0</td>\n",
       "      <td>0.0</td>\n",
       "      <td>0.0</td>\n",
       "      <td>0.0</td>\n",
       "      <td>1.0</td>\n",
       "    </tr>\n",
       "    <tr>\n",
       "      <th>contact_ip_172.18.4.246</th>\n",
       "      <td>2220.0</td>\n",
       "      <td>0.000450</td>\n",
       "      <td>0.021224</td>\n",
       "      <td>0.0</td>\n",
       "      <td>0.0</td>\n",
       "      <td>0.0</td>\n",
       "      <td>0.0</td>\n",
       "      <td>1.0</td>\n",
       "    </tr>\n",
       "    <tr>\n",
       "      <th>contact_ip_172.18.8.49</th>\n",
       "      <td>2220.0</td>\n",
       "      <td>0.000450</td>\n",
       "      <td>0.021224</td>\n",
       "      <td>0.0</td>\n",
       "      <td>0.0</td>\n",
       "      <td>0.0</td>\n",
       "      <td>0.0</td>\n",
       "      <td>1.0</td>\n",
       "    </tr>\n",
       "    <tr>\n",
       "      <th>contact_ip_172.18.9.132</th>\n",
       "      <td>2220.0</td>\n",
       "      <td>0.000450</td>\n",
       "      <td>0.021224</td>\n",
       "      <td>0.0</td>\n",
       "      <td>0.0</td>\n",
       "      <td>0.0</td>\n",
       "      <td>0.0</td>\n",
       "      <td>1.0</td>\n",
       "    </tr>\n",
       "    <tr>\n",
       "      <th>contact_ip_185.107.83.35</th>\n",
       "      <td>2220.0</td>\n",
       "      <td>0.128378</td>\n",
       "      <td>0.334586</td>\n",
       "      <td>0.0</td>\n",
       "      <td>0.0</td>\n",
       "      <td>0.0</td>\n",
       "      <td>0.0</td>\n",
       "      <td>1.0</td>\n",
       "    </tr>\n",
       "    <tr>\n",
       "      <th>contact_ip_185.107.83.58</th>\n",
       "      <td>2220.0</td>\n",
       "      <td>0.000450</td>\n",
       "      <td>0.021224</td>\n",
       "      <td>0.0</td>\n",
       "      <td>0.0</td>\n",
       "      <td>0.0</td>\n",
       "      <td>0.0</td>\n",
       "      <td>1.0</td>\n",
       "    </tr>\n",
       "    <tr>\n",
       "      <th>contact_ip_185.40.4.185</th>\n",
       "      <td>2220.0</td>\n",
       "      <td>0.014865</td>\n",
       "      <td>0.121039</td>\n",
       "      <td>0.0</td>\n",
       "      <td>0.0</td>\n",
       "      <td>0.0</td>\n",
       "      <td>0.0</td>\n",
       "      <td>1.0</td>\n",
       "    </tr>\n",
       "    <tr>\n",
       "      <th>contact_ip_185.40.4.70</th>\n",
       "      <td>2220.0</td>\n",
       "      <td>0.008108</td>\n",
       "      <td>0.089699</td>\n",
       "      <td>0.0</td>\n",
       "      <td>0.0</td>\n",
       "      <td>0.0</td>\n",
       "      <td>0.0</td>\n",
       "      <td>1.0</td>\n",
       "    </tr>\n",
       "    <tr>\n",
       "      <th>contact_ip_192.99.38.121</th>\n",
       "      <td>2220.0</td>\n",
       "      <td>0.178378</td>\n",
       "      <td>0.382917</td>\n",
       "      <td>0.0</td>\n",
       "      <td>0.0</td>\n",
       "      <td>0.0</td>\n",
       "      <td>0.0</td>\n",
       "      <td>1.0</td>\n",
       "    </tr>\n",
       "    <tr>\n",
       "      <th>contact_ip_193.23.181.142</th>\n",
       "      <td>2220.0</td>\n",
       "      <td>0.018018</td>\n",
       "      <td>0.133046</td>\n",
       "      <td>0.0</td>\n",
       "      <td>0.0</td>\n",
       "      <td>0.0</td>\n",
       "      <td>0.0</td>\n",
       "      <td>1.0</td>\n",
       "    </tr>\n",
       "    <tr>\n",
       "      <th>contact_ip_212.129.10.158</th>\n",
       "      <td>2220.0</td>\n",
       "      <td>0.451351</td>\n",
       "      <td>0.497740</td>\n",
       "      <td>0.0</td>\n",
       "      <td>0.0</td>\n",
       "      <td>0.0</td>\n",
       "      <td>1.0</td>\n",
       "      <td>1.0</td>\n",
       "    </tr>\n",
       "    <tr>\n",
       "      <th>contact_ip_37.187.140.160</th>\n",
       "      <td>2220.0</td>\n",
       "      <td>0.000450</td>\n",
       "      <td>0.021224</td>\n",
       "      <td>0.0</td>\n",
       "      <td>0.0</td>\n",
       "      <td>0.0</td>\n",
       "      <td>0.0</td>\n",
       "      <td>1.0</td>\n",
       "    </tr>\n",
       "    <tr>\n",
       "      <th>contact_ip_54.37.0.176</th>\n",
       "      <td>2220.0</td>\n",
       "      <td>0.031982</td>\n",
       "      <td>0.175992</td>\n",
       "      <td>0.0</td>\n",
       "      <td>0.0</td>\n",
       "      <td>0.0</td>\n",
       "      <td>0.0</td>\n",
       "      <td>1.0</td>\n",
       "    </tr>\n",
       "    <tr>\n",
       "      <th>contact_ip_54.37.130.247</th>\n",
       "      <td>2220.0</td>\n",
       "      <td>0.001351</td>\n",
       "      <td>0.036744</td>\n",
       "      <td>0.0</td>\n",
       "      <td>0.0</td>\n",
       "      <td>0.0</td>\n",
       "      <td>0.0</td>\n",
       "      <td>1.0</td>\n",
       "    </tr>\n",
       "    <tr>\n",
       "      <th>contact_ip_54.37.3.166</th>\n",
       "      <td>2220.0</td>\n",
       "      <td>0.016216</td>\n",
       "      <td>0.126335</td>\n",
       "      <td>0.0</td>\n",
       "      <td>0.0</td>\n",
       "      <td>0.0</td>\n",
       "      <td>0.0</td>\n",
       "      <td>1.0</td>\n",
       "    </tr>\n",
       "    <tr>\n",
       "      <th>contact_ip_54.38.39.182</th>\n",
       "      <td>2220.0</td>\n",
       "      <td>0.132883</td>\n",
       "      <td>0.339525</td>\n",
       "      <td>0.0</td>\n",
       "      <td>0.0</td>\n",
       "      <td>0.0</td>\n",
       "      <td>0.0</td>\n",
       "      <td>1.0</td>\n",
       "    </tr>\n",
       "    <tr>\n",
       "      <th>contact_ip_54.38.70.20</th>\n",
       "      <td>2220.0</td>\n",
       "      <td>0.004505</td>\n",
       "      <td>0.066979</td>\n",
       "      <td>0.0</td>\n",
       "      <td>0.0</td>\n",
       "      <td>0.0</td>\n",
       "      <td>0.0</td>\n",
       "      <td>1.0</td>\n",
       "    </tr>\n",
       "    <tr>\n",
       "      <th>contact_ip_54.38.71.194</th>\n",
       "      <td>2220.0</td>\n",
       "      <td>0.000901</td>\n",
       "      <td>0.030008</td>\n",
       "      <td>0.0</td>\n",
       "      <td>0.0</td>\n",
       "      <td>0.0</td>\n",
       "      <td>0.0</td>\n",
       "      <td>1.0</td>\n",
       "    </tr>\n",
       "    <tr>\n",
       "      <th>contact_ip_67.21.95.206</th>\n",
       "      <td>2220.0</td>\n",
       "      <td>0.000901</td>\n",
       "      <td>0.030008</td>\n",
       "      <td>0.0</td>\n",
       "      <td>0.0</td>\n",
       "      <td>0.0</td>\n",
       "      <td>0.0</td>\n",
       "      <td>1.0</td>\n",
       "    </tr>\n",
       "    <tr>\n",
       "      <th>contact_ip_69.195.146.98</th>\n",
       "      <td>2220.0</td>\n",
       "      <td>0.000450</td>\n",
       "      <td>0.021224</td>\n",
       "      <td>0.0</td>\n",
       "      <td>0.0</td>\n",
       "      <td>0.0</td>\n",
       "      <td>0.0</td>\n",
       "      <td>1.0</td>\n",
       "    </tr>\n",
       "    <tr>\n",
       "      <th>contact_ip_91.230.121.151</th>\n",
       "      <td>2220.0</td>\n",
       "      <td>0.000450</td>\n",
       "      <td>0.021224</td>\n",
       "      <td>0.0</td>\n",
       "      <td>0.0</td>\n",
       "      <td>0.0</td>\n",
       "      <td>0.0</td>\n",
       "      <td>1.0</td>\n",
       "    </tr>\n",
       "    <tr>\n",
       "      <th>contact_ip_93.115.29.150</th>\n",
       "      <td>2220.0</td>\n",
       "      <td>0.000450</td>\n",
       "      <td>0.021224</td>\n",
       "      <td>0.0</td>\n",
       "      <td>0.0</td>\n",
       "      <td>0.0</td>\n",
       "      <td>0.0</td>\n",
       "      <td>1.0</td>\n",
       "    </tr>\n",
       "  </tbody>\n",
       "</table>\n",
       "<p>2134 rows × 8 columns</p>\n",
       "</div>"
      ],
      "text/plain": [
       "                               count          mean           std     min  \\\n",
       "contact_port                  2220.0  29135.528829  26230.651564     0.0   \n",
       "destination_port              2220.0   5061.801802     84.895272  5060.0   \n",
       "source_port                   2220.0  32942.348198  24859.318449  5060.0   \n",
       "toll_fraud                     444.0      0.993243      0.082014     0.0   \n",
       "ruri_user_#972592277524       2220.0      0.000901      0.030008     0.0   \n",
       "ruri_user_*+31203697460       2220.0      0.002252      0.047415     0.0   \n",
       "ruri_user_*0031203697460      2220.0      0.002252      0.047415     0.0   \n",
       "ruri_user_*0048322132924      2220.0      0.000450      0.021224     0.0   \n",
       "ruri_user_*011972592277524    2220.0      0.000901      0.030008     0.0   \n",
       "ruri_user_*048322132924       2220.0      0.000450      0.021224     0.0   \n",
       "ruri_user_*31203697460        2220.0      0.002252      0.047415     0.0   \n",
       "ruri_user_*972592277524       2220.0      0.000901      0.030008     0.0   \n",
       "ruri_user_+*31203697460       2220.0      0.002252      0.047415     0.0   \n",
       "ruri_user_++31203697460       2220.0      0.002703      0.051929     0.0   \n",
       "ruri_user_++390662279104      2220.0      0.000901      0.030008     0.0   \n",
       "ruri_user_+00011972592277524  2220.0      0.003153      0.056077     0.0   \n",
       "ruri_user_+0031203697460      2220.0      0.003153      0.056077     0.0   \n",
       "ruri_user_+00390662279104     2220.0      0.000901      0.030008     0.0   \n",
       "ruri_user_+01131203697460     2220.0      0.003153      0.056077     0.0   \n",
       "ruri_user_+011390662279104    2220.0      0.000901      0.030008     0.0   \n",
       "ruri_user_+131203697460       2220.0      0.002252      0.047415     0.0   \n",
       "ruri_user_+31203697460        2220.0      0.003153      0.056077     0.0   \n",
       "ruri_user_+390662279104       2220.0      0.001351      0.036744     0.0   \n",
       "ruri_user_+442030044789       2220.0      0.001351      0.036744     0.0   \n",
       "ruri_user_+48322132924        2220.0      0.000450      0.021224     0.0   \n",
       "ruri_user_+90031203697460     2220.0      0.002703      0.051929     0.0   \n",
       "ruri_user_+900390662279104    2220.0      0.000450      0.021224     0.0   \n",
       "ruri_user_+901131203697460    2220.0      0.002252      0.047415     0.0   \n",
       "ruri_user_+9011390662279104   2220.0      0.000450      0.021224     0.0   \n",
       "ruri_user_+931203697460       2220.0      0.002703      0.051929     0.0   \n",
       "...                              ...           ...           ...     ...   \n",
       "contact_ip_145.239.141.201    2220.0      0.000450      0.021224     0.0   \n",
       "contact_ip_145.239.244.97     2220.0      0.000901      0.030008     0.0   \n",
       "contact_ip_158.69.249.92      2220.0      0.000450      0.021224     0.0   \n",
       "contact_ip_162.244.80.164     2220.0      0.001351      0.036744     0.0   \n",
       "contact_ip_172.18.0.203       2220.0      0.000450      0.021224     0.0   \n",
       "contact_ip_172.18.0.209       2220.0      0.001802      0.042419     0.0   \n",
       "contact_ip_172.18.1.81        2220.0      0.000901      0.030008     0.0   \n",
       "contact_ip_172.18.14.106      2220.0      0.001351      0.036744     0.0   \n",
       "contact_ip_172.18.4.229       2220.0      0.000450      0.021224     0.0   \n",
       "contact_ip_172.18.4.246       2220.0      0.000450      0.021224     0.0   \n",
       "contact_ip_172.18.8.49        2220.0      0.000450      0.021224     0.0   \n",
       "contact_ip_172.18.9.132       2220.0      0.000450      0.021224     0.0   \n",
       "contact_ip_185.107.83.35      2220.0      0.128378      0.334586     0.0   \n",
       "contact_ip_185.107.83.58      2220.0      0.000450      0.021224     0.0   \n",
       "contact_ip_185.40.4.185       2220.0      0.014865      0.121039     0.0   \n",
       "contact_ip_185.40.4.70        2220.0      0.008108      0.089699     0.0   \n",
       "contact_ip_192.99.38.121      2220.0      0.178378      0.382917     0.0   \n",
       "contact_ip_193.23.181.142     2220.0      0.018018      0.133046     0.0   \n",
       "contact_ip_212.129.10.158     2220.0      0.451351      0.497740     0.0   \n",
       "contact_ip_37.187.140.160     2220.0      0.000450      0.021224     0.0   \n",
       "contact_ip_54.37.0.176        2220.0      0.031982      0.175992     0.0   \n",
       "contact_ip_54.37.130.247      2220.0      0.001351      0.036744     0.0   \n",
       "contact_ip_54.37.3.166        2220.0      0.016216      0.126335     0.0   \n",
       "contact_ip_54.38.39.182       2220.0      0.132883      0.339525     0.0   \n",
       "contact_ip_54.38.70.20        2220.0      0.004505      0.066979     0.0   \n",
       "contact_ip_54.38.71.194       2220.0      0.000901      0.030008     0.0   \n",
       "contact_ip_67.21.95.206       2220.0      0.000901      0.030008     0.0   \n",
       "contact_ip_69.195.146.98      2220.0      0.000450      0.021224     0.0   \n",
       "contact_ip_91.230.121.151     2220.0      0.000450      0.021224     0.0   \n",
       "contact_ip_93.115.29.150      2220.0      0.000450      0.021224     0.0   \n",
       "\n",
       "                                 25%      50%      75%      max  \n",
       "contact_port                  5070.0   5076.0  56560.0  65515.0  \n",
       "destination_port              5060.0   5060.0   5060.0   9060.0  \n",
       "source_port                   5072.0  42118.5  56560.0  65515.0  \n",
       "toll_fraud                       1.0      1.0      1.0      1.0  \n",
       "ruri_user_#972592277524          0.0      0.0      0.0      1.0  \n",
       "ruri_user_*+31203697460          0.0      0.0      0.0      1.0  \n",
       "ruri_user_*0031203697460         0.0      0.0      0.0      1.0  \n",
       "ruri_user_*0048322132924         0.0      0.0      0.0      1.0  \n",
       "ruri_user_*011972592277524       0.0      0.0      0.0      1.0  \n",
       "ruri_user_*048322132924          0.0      0.0      0.0      1.0  \n",
       "ruri_user_*31203697460           0.0      0.0      0.0      1.0  \n",
       "ruri_user_*972592277524          0.0      0.0      0.0      1.0  \n",
       "ruri_user_+*31203697460          0.0      0.0      0.0      1.0  \n",
       "ruri_user_++31203697460          0.0      0.0      0.0      1.0  \n",
       "ruri_user_++390662279104         0.0      0.0      0.0      1.0  \n",
       "ruri_user_+00011972592277524     0.0      0.0      0.0      1.0  \n",
       "ruri_user_+0031203697460         0.0      0.0      0.0      1.0  \n",
       "ruri_user_+00390662279104        0.0      0.0      0.0      1.0  \n",
       "ruri_user_+01131203697460        0.0      0.0      0.0      1.0  \n",
       "ruri_user_+011390662279104       0.0      0.0      0.0      1.0  \n",
       "ruri_user_+131203697460          0.0      0.0      0.0      1.0  \n",
       "ruri_user_+31203697460           0.0      0.0      0.0      1.0  \n",
       "ruri_user_+390662279104          0.0      0.0      0.0      1.0  \n",
       "ruri_user_+442030044789          0.0      0.0      0.0      1.0  \n",
       "ruri_user_+48322132924           0.0      0.0      0.0      1.0  \n",
       "ruri_user_+90031203697460        0.0      0.0      0.0      1.0  \n",
       "ruri_user_+900390662279104       0.0      0.0      0.0      1.0  \n",
       "ruri_user_+901131203697460       0.0      0.0      0.0      1.0  \n",
       "ruri_user_+9011390662279104      0.0      0.0      0.0      1.0  \n",
       "ruri_user_+931203697460          0.0      0.0      0.0      1.0  \n",
       "...                              ...      ...      ...      ...  \n",
       "contact_ip_145.239.141.201       0.0      0.0      0.0      1.0  \n",
       "contact_ip_145.239.244.97        0.0      0.0      0.0      1.0  \n",
       "contact_ip_158.69.249.92         0.0      0.0      0.0      1.0  \n",
       "contact_ip_162.244.80.164        0.0      0.0      0.0      1.0  \n",
       "contact_ip_172.18.0.203          0.0      0.0      0.0      1.0  \n",
       "contact_ip_172.18.0.209          0.0      0.0      0.0      1.0  \n",
       "contact_ip_172.18.1.81           0.0      0.0      0.0      1.0  \n",
       "contact_ip_172.18.14.106         0.0      0.0      0.0      1.0  \n",
       "contact_ip_172.18.4.229          0.0      0.0      0.0      1.0  \n",
       "contact_ip_172.18.4.246          0.0      0.0      0.0      1.0  \n",
       "contact_ip_172.18.8.49           0.0      0.0      0.0      1.0  \n",
       "contact_ip_172.18.9.132          0.0      0.0      0.0      1.0  \n",
       "contact_ip_185.107.83.35         0.0      0.0      0.0      1.0  \n",
       "contact_ip_185.107.83.58         0.0      0.0      0.0      1.0  \n",
       "contact_ip_185.40.4.185          0.0      0.0      0.0      1.0  \n",
       "contact_ip_185.40.4.70           0.0      0.0      0.0      1.0  \n",
       "contact_ip_192.99.38.121         0.0      0.0      0.0      1.0  \n",
       "contact_ip_193.23.181.142        0.0      0.0      0.0      1.0  \n",
       "contact_ip_212.129.10.158        0.0      0.0      1.0      1.0  \n",
       "contact_ip_37.187.140.160        0.0      0.0      0.0      1.0  \n",
       "contact_ip_54.37.0.176           0.0      0.0      0.0      1.0  \n",
       "contact_ip_54.37.130.247         0.0      0.0      0.0      1.0  \n",
       "contact_ip_54.37.3.166           0.0      0.0      0.0      1.0  \n",
       "contact_ip_54.38.39.182          0.0      0.0      0.0      1.0  \n",
       "contact_ip_54.38.70.20           0.0      0.0      0.0      1.0  \n",
       "contact_ip_54.38.71.194          0.0      0.0      0.0      1.0  \n",
       "contact_ip_67.21.95.206          0.0      0.0      0.0      1.0  \n",
       "contact_ip_69.195.146.98         0.0      0.0      0.0      1.0  \n",
       "contact_ip_91.230.121.151        0.0      0.0      0.0      1.0  \n",
       "contact_ip_93.115.29.150         0.0      0.0      0.0      1.0  \n",
       "\n",
       "[2134 rows x 8 columns]"
      ]
     },
     "execution_count": 31,
     "metadata": {},
     "output_type": "execute_result"
    }
   ],
   "source": [
    "dataset.describe().transpose()"
   ]
  },
  {
   "cell_type": "code",
   "execution_count": 32,
   "metadata": {
    "collapsed": true
   },
   "outputs": [],
   "source": [
    "train_count = len(df_train)"
   ]
  },
  {
   "cell_type": "code",
   "execution_count": 33,
   "metadata": {
    "collapsed": true
   },
   "outputs": [],
   "source": [
    "feature_count = dataset.shape[1]"
   ]
  },
  {
   "cell_type": "code",
   "execution_count": 34,
   "metadata": {
    "collapsed": false
   },
   "outputs": [
    {
     "name": "stdout",
     "output_type": "stream",
     "text": [
      "('Number of features:', 2134)\n"
     ]
    }
   ],
   "source": [
    "print('Number of features:', feature_count)"
   ]
  },
  {
   "cell_type": "code",
   "execution_count": null,
   "metadata": {
    "collapsed": false
   },
   "outputs": [],
   "source": [
    "train_count"
   ]
  },
  {
   "cell_type": "code",
   "execution_count": null,
   "metadata": {
    "collapsed": true
   },
   "outputs": [],
   "source": [
    "x_submit = dataset[train_count:]\n",
    "x_train = dataset[:train_count]\n",
    "y_train = df_train[LABEL]"
   ]
  },
  {
   "cell_type": "code",
   "execution_count": null,
   "metadata": {
    "collapsed": false
   },
   "outputs": [],
   "source": [
    "x_submit.info()"
   ]
  },
  {
   "cell_type": "code",
   "execution_count": null,
   "metadata": {
    "collapsed": true
   },
   "outputs": [],
   "source": [
    "def build_model():\n",
    "    m = Sequential([\n",
    "        Dense(30, activation='relu', input_dim=feature_count, kernel_initializer='random_uniform'),\n",
    "        Dense(30, activation='relu'),\n",
    "        Dense(1, activation='sigmoid'),  # TODO 1x sigmoid vs 2x softmax?\n",
    "    ])\n",
    "    m.compile(optimizer='rmsprop', loss='binary_crossentropy', metrics=['accuracy'])\n",
    "    return m"
   ]
  },
  {
   "cell_type": "code",
   "execution_count": null,
   "metadata": {
    "collapsed": false
   },
   "outputs": [],
   "source": [
    "model = KerasClassifier(build_fn=build_model, epochs=EPOCHS, batch_size=BATCH_SIZE, verbose=False)"
   ]
  },
  {
   "cell_type": "code",
   "execution_count": null,
   "metadata": {
    "collapsed": true
   },
   "outputs": [],
   "source": [
    "cv = StratifiedKFold(n_splits=NUM_FOLDS, shuffle=True, random_state=RANDOM_STATE)"
   ]
  },
  {
   "cell_type": "code",
   "execution_count": null,
   "metadata": {
    "collapsed": false
   },
   "outputs": [],
   "source": [
    "results = cross_val_score(model, x_train, y_train, cv=cv, n_jobs=-1)"
   ]
  },
  {
   "cell_type": "code",
   "execution_count": null,
   "metadata": {
    "collapsed": false
   },
   "outputs": [],
   "source": [
    "print('Mean accuracy in %i-fold CV:' % NUM_FOLDS, results.mean())"
   ]
  },
  {
   "cell_type": "code",
   "execution_count": null,
   "metadata": {
    "collapsed": true
   },
   "outputs": [],
   "source": [
    "model = build_model()"
   ]
  },
  {
   "cell_type": "code",
   "execution_count": null,
   "metadata": {
    "collapsed": false
   },
   "outputs": [],
   "source": [
    "model.fit(x_train, y_train, epochs=EPOCHS, batch_size=BATCH_SIZE, verbose=False)"
   ]
  },
  {
   "cell_type": "code",
   "execution_count": null,
   "metadata": {
    "collapsed": false
   },
   "outputs": [],
   "source": [
    "y_pred = model.predict_classes(x_train, verbose=True).flatten()"
   ]
  },
  {
   "cell_type": "code",
   "execution_count": null,
   "metadata": {
    "collapsed": false
   },
   "outputs": [],
   "source": [
    "print('Final accuracy on training data:', accuracy_score(y_train, y_pred))"
   ]
  },
  {
   "cell_type": "code",
   "execution_count": null,
   "metadata": {
    "collapsed": false
   },
   "outputs": [],
   "source": [
    "print(pd.crosstab(y_train, y_pred, rownames=['Real'], colnames=['Predicted'], margins=True))"
   ]
  },
  {
   "cell_type": "code",
   "execution_count": null,
   "metadata": {
    "collapsed": true
   },
   "outputs": [],
   "source": [
    "row_filter = [y1 == y2 for (y1, y2) in zip(y_pred, y_train)]"
   ]
  },
  {
   "cell_type": "code",
   "execution_count": null,
   "metadata": {
    "collapsed": true
   },
   "outputs": [],
   "source": [
    "call_fraud = df_train.copy()"
   ]
  },
  {
   "cell_type": "code",
   "execution_count": null,
   "metadata": {
    "collapsed": true
   },
   "outputs": [],
   "source": [
    "call_fraud['valid_caller'] = y_pred"
   ]
  },
  {
   "cell_type": "code",
   "execution_count": null,
   "metadata": {
    "collapsed": true
   },
   "outputs": [],
   "source": [
    "call_fraud = call_fraud[row_filter]"
   ]
  },
  {
   "cell_type": "code",
   "execution_count": null,
   "metadata": {
    "collapsed": true
   },
   "outputs": [],
   "source": [
    "call_fraud.to_csv('call_fraud.csv', index=False)"
   ]
  },
  {
   "cell_type": "code",
   "execution_count": null,
   "metadata": {
    "collapsed": false,
    "scrolled": true
   },
   "outputs": [],
   "source": [
    "print('Wrote', len(call_fraud), 'rows to call_fraud.csv')"
   ]
  },
  {
   "cell_type": "code",
   "execution_count": null,
   "metadata": {
    "collapsed": true
   },
   "outputs": [],
   "source": [
    "y_submit = model.predict_classes(x_submit, verbose=False).flatten()"
   ]
  },
  {
   "cell_type": "code",
   "execution_count": null,
   "metadata": {
    "collapsed": true
   },
   "outputs": [],
   "source": [
    "df_submit = pd.DataFrame(y_submit, index=df_test['user_agent'], columns=[LABEL])"
   ]
  },
  {
   "cell_type": "code",
   "execution_count": null,
   "metadata": {
    "collapsed": true
   },
   "outputs": [],
   "source": [
    "df_submit.to_csv('submission.csv')"
   ]
  },
  {
   "cell_type": "code",
   "execution_count": null,
   "metadata": {
    "collapsed": false
   },
   "outputs": [],
   "source": [
    "print('Wrote', len(df_submit), 'rows to submission.csv')"
   ]
  },
  {
   "cell_type": "code",
   "execution_count": null,
   "metadata": {
    "collapsed": true
   },
   "outputs": [],
   "source": []
  }
 ],
 "metadata": {
  "kernelspec": {
   "display_name": "Python 2",
   "language": "python",
   "name": "python2"
  },
  "language_info": {
   "codemirror_mode": {
    "name": "ipython",
    "version": 2
   },
   "file_extension": ".py",
   "mimetype": "text/x-python",
   "name": "python",
   "nbconvert_exporter": "python",
   "pygments_lexer": "ipython2",
   "version": "2.7.10"
  }
 },
 "nbformat": 4,
 "nbformat_minor": 2
}
