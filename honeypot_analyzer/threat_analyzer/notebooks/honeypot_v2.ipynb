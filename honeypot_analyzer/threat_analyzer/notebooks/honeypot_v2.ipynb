{
 "cells": [
  {
   "cell_type": "code",
   "execution_count": null,
   "metadata": {
    "collapsed": false
   },
   "outputs": [],
   "source": [
    "import pandas as pd\n",
    "import numpy as np"
   ]
  },
  {
   "cell_type": "code",
   "execution_count": null,
   "metadata": {
    "collapsed": true
   },
   "outputs": [],
   "source": [
    "from sklearn.preprocessing import LabelEncoder"
   ]
  },
  {
   "cell_type": "code",
   "execution_count": null,
   "metadata": {
    "collapsed": false
   },
   "outputs": [],
   "source": [
    "from keras.utils import to_categorical\n",
    "from keras.models import Sequential\n",
    "from keras.layers import Dense, Dropout"
   ]
  },
  {
   "cell_type": "code",
   "execution_count": null,
   "metadata": {
    "collapsed": true
   },
   "outputs": [],
   "source": [
    "from sklearn.model_selection import train_test_split"
   ]
  },
  {
   "cell_type": "code",
   "execution_count": null,
   "metadata": {
    "collapsed": true
   },
   "outputs": [],
   "source": [
    "FILENAME = 'data/honeypot_dataset.csv'"
   ]
  },
  {
   "cell_type": "code",
   "execution_count": null,
   "metadata": {
    "collapsed": true
   },
   "outputs": [],
   "source": [
    "ALL_FEATURES = ['ruri',\n",
    "                'ruri_user',\n",
    "                'ruri_domain',\n",
    "                'from_user',\n",
    "                'from_domain',\n",
    "                'from_tag',\n",
    "                'to_user',\n",
    "                'contact_user',\n",
    "                'callid',\n",
    "                'content_type',\n",
    "                'user_agent',\n",
    "                'source_ip',\n",
    "                'source_port',\n",
    "                'destination_port',\n",
    "                'contact_ip',\n",
    "                'contact_port']\n",
    "CATEGORICAL = ['ruri',\n",
    "               'ruri_user',\n",
    "               'ruri_domain',\n",
    "               'from_user',\n",
    "               'from_domain',\n",
    "               'from_tag',\n",
    "               'to_user',\n",
    "               'contact_user',\n",
    "               'callid',\n",
    "               'content_type',\n",
    "               'user_agent',\n",
    "               'source_ip',\n",
    "               'contact_ip']"
   ]
  },
  {
   "cell_type": "code",
   "execution_count": null,
   "metadata": {
    "collapsed": true
   },
   "outputs": [],
   "source": [
    "CONTINUOUS = ['source_port', 'destination_port', 'contact_port']\n",
    "DROPPED_FEATURES = ['destination_port', 'ruri', 'ruri_domain', 'from_domain', 'callid', 'from_tag', 'content_type']\n",
    "FEATURES = list(set(ALL_FEATURES) - set(DROPPED_FEATURES))\n",
    "LABEL = 'toll_fraud'"
   ]
  },
  {
   "cell_type": "code",
   "execution_count": null,
   "metadata": {
    "collapsed": false
   },
   "outputs": [],
   "source": [
    "FEATURES"
   ]
  },
  {
   "cell_type": "code",
   "execution_count": null,
   "metadata": {
    "collapsed": true
   },
   "outputs": [],
   "source": [
    "dataset = pd.read_csv(FILENAME)"
   ]
  },
  {
   "cell_type": "code",
   "execution_count": null,
   "metadata": {
    "collapsed": false
   },
   "outputs": [],
   "source": [
    "dataset.drop(DROPPED_FEATURES, axis=1)\n",
    "na_vars = {\"contact_user\": \"unknown\"}\n",
    "dataset.fillna(na_vars)"
   ]
  },
  {
   "cell_type": "code",
   "execution_count": null,
   "metadata": {
    "collapsed": false
   },
   "outputs": [],
   "source": [
    "SIP_SCANNERS = ('sipcli/v1.8', 'pplsip')\n",
    "dataset['is_scanner'] = 0\n",
    "dataset['is_scanner'].loc[dataset['user_agent'].isin(SIP_SCANNERS)] = 1"
   ]
  },
  {
   "cell_type": "code",
   "execution_count": null,
   "metadata": {
    "collapsed": false
   },
   "outputs": [],
   "source": [
    "dataset.head(100)\n"
   ]
  },
  {
   "cell_type": "code",
   "execution_count": null,
   "metadata": {
    "collapsed": false
   },
   "outputs": [],
   "source": [
    "dataset = dataset.drop(DROPPED_FEATURES, axis=1)\n"
   ]
  },
  {
   "cell_type": "code",
   "execution_count": null,
   "metadata": {
    "collapsed": false
   },
   "outputs": [],
   "source": [
    "dataset.dtypes"
   ]
  },
  {
   "cell_type": "code",
   "execution_count": null,
   "metadata": {
    "collapsed": true
   },
   "outputs": [],
   "source": [
    "dataset['ruri_user'] = dataset['ruri_user'].astype('category')\n"
   ]
  },
  {
   "cell_type": "code",
   "execution_count": null,
   "metadata": {
    "collapsed": false
   },
   "outputs": [],
   "source": [
    "dataset.dtypes"
   ]
  },
  {
   "cell_type": "code",
   "execution_count": null,
   "metadata": {
    "collapsed": true
   },
   "outputs": [],
   "source": [
    "dataset['ruri_user_cat'] = dataset['ruri_user'].cat.codes"
   ]
  },
  {
   "cell_type": "code",
   "execution_count": null,
   "metadata": {
    "collapsed": false
   },
   "outputs": [],
   "source": [
    "dataset.head()"
   ]
  },
  {
   "cell_type": "code",
   "execution_count": null,
   "metadata": {
    "collapsed": true
   },
   "outputs": [],
   "source": [
    "def encode_one_hot(df, column, axis=1):\n",
    "    \"\"\"\n",
    "\n",
    "    :param df: (Pandas.dataframe) A Pandas dataframe.\n",
    "    :param column: (str) Column name.\n",
    "    :param axis: (int). Pandas.dataframe axis\n",
    "    :return:\n",
    "    \"\"\"\n",
    "    return df.join(pd.get_dummies(df[column], column)).drop(column, axis=axis)"
   ]
  },
  {
   "cell_type": "code",
   "execution_count": null,
   "metadata": {
    "collapsed": true
   },
   "outputs": [],
   "source": [
    "class HoneypotData(object):\n",
    "    \"\"\"Honeypot Data class.\n",
    "\n",
    "    This class will contain the entire data pipeline from raw data to prepared\n",
    "    numpy arrays.  It's eventually inherited by the model class, but is left\n",
    "    distinct for readbility and logical organization.\n",
    "    \"\"\"\n",
    "    \n",
    "    filepath = 'data/'\n",
    "    train_fn = 'honeypot_dataset.csv'\n",
    "    test_fn = 'honeypot_test.csv'\n",
    "\n",
    "    def __init__(self):\n",
    "        \"\"\" Initializes and process all pipeline.\"\"\"\n",
    "        self.all_dataset = None\n",
    "        self.X_train, self.y_train, self.X_valid, self.y_valid = self.preproc()\n",
    "\n",
    "    def preproc(self):\n",
    "        \"\"\"Process data pipeline\"\"\"\n",
    "\n",
    "        # Import Data & Drop irrevelant features\n",
    "        dataset = self.import_data(self.train_fn)\n",
    "        # Fix NA values.\n",
    "        dataset = self.fix_na(dataset)\n",
    "\n",
    "        # Create dummies.\n",
    "        dataset = encode_one_hot(dataset, 'ruri_user')\n",
    "        dataset = encode_one_hot(dataset, 'from_user')\n",
    "        dataset = encode_one_hot(dataset, 'from_domain')\n",
    "        dataset = encode_one_hot(dataset, 'to_user')\n",
    "        dataset = encode_one_hot(dataset, 'contact_user')\n",
    "        dataset = encode_one_hot(dataset, 'user_agent')\n",
    "        dataset = encode_one_hot(dataset, 'source_ip')\n",
    "        dataset = encode_one_hot(dataset, 'contact_ip')\n",
    "\n",
    "        # Select all columns except Target.\n",
    "        X = dataset[dataset.columns.difference([LABEL])]\n",
    "        y = dataset[LABEL]\n",
    "        X_train, X_valid, y_train, y_valid = train_test_split(X, y, test_size=0.25, random_state=606, stratify=y)\n",
    "        return X_train.astype('float32'), y_train.values, X_valid.astype('float32'), y_valid.values\n",
    "\n",
    "    def import_data(self, filename):\n",
    "        \"\"\"Import that data and then split it into train/test sets. Make sure to stratify.\n",
    "\n",
    "        This stratify parameter makes a split so that the proportion of values in the sample produced will be the same\n",
    "        as the proportion of values provided to parameter stratify.\n",
    "        For example, if variable y is a binary categorical variable with values 0 and 1 and there are 25% of zeros\n",
    "        and 75% of ones, stratify=y will make sure that your random split has 25% of 0's and 75% of 1's.\n",
    "        \"\"\"\n",
    "\n",
    "        dataset = pd.read_csv('%s%s' % (self.filepath, filename))\n",
    "        self.all_dataset = dataset\n",
    "        # Drop irrelevant features.\n",
    "        return dataset.drop(DROPPED_FEATURES, axis=1)\n",
    "\n",
    "    def fix_na(self, data):\n",
    "        \"\"\"Fill na's with test (in the case of contact_user), and with application/sdp in the case of content_type.\"\"\"\n",
    "\n",
    "        na_vars = {\"contact_user\": \"test\", \"content_type\": \"application/sdp\"}\n",
    "        return data.fillna(na_vars)\n",
    "\n",
    "    def preproc_test(self):\n",
    "        \"\"\"Preprocess testing data.\"\"\"\n",
    "\n",
    "        test = self.import_data(self.test_fn)\n",
    "        # Extract labels.\n",
    "        labels = test.user_agent.values\n",
    "        # Fix NA values.\n",
    "        test = self.fix_na(test)\n",
    "\n",
    "        # Create dummy variables.\n",
    "        test = encode_one_hot(test, 'ruri_user')\n",
    "        test = encode_one_hot(test, 'from_user')\n",
    "        test = encode_one_hot(test, 'from_domain')\n",
    "        test = encode_one_hot(test, 'to_user')\n",
    "        test = encode_one_hot(test, 'contact_user')\n",
    "        test = encode_one_hot(test, 'user_agent')\n",
    "        test = encode_one_hot(test, 'source_ip')\n",
    "        test = encode_one_hot(test, 'contact_ip')\n",
    "        return labels, test\n"
   ]
  },
  {
   "cell_type": "code",
   "execution_count": null,
   "metadata": {
    "collapsed": true
   },
   "outputs": [],
   "source": [
    "class HoneypotKeras(HoneypotData):\n",
    "    \"\"\"Main classifier model based in Keras.\"\"\"\n",
    "\n",
    "    def __init__(self):\n",
    "        self.X_train, self.y_train, self.X_valid, self.y_valid = self.preproc()\n",
    "        self.y_train, self.y_valid = to_categorical(self.y_train), to_categorical(self.y_valid)\n",
    "        self.feature_count = self.X_train.shape[1]\n",
    "        self.history = []\n",
    "\n",
    "    def build_model(self):\n",
    "        model = Sequential()\n",
    "        model.add(Dense(2056, input_shape=(self.feature_count,), activation='relu'))\n",
    "        model.add(Dropout(0.1))\n",
    "        model.add(Dense(1028, activation='relu'))\n",
    "        model.add(Dropout(0.2))\n",
    "        model.add(Dense(1028, activation='relu'))\n",
    "        model.add(Dropout(0.3))\n",
    "        model.add(Dense(512, activation='relu'))\n",
    "        model.add(Dropout(0.4))\n",
    "        model.add(Dense(2, activation='sigmoid'))\n",
    "        model.compile(optimizer='adam',\n",
    "                      loss='binary_crossentropy',\n",
    "                      metrics=['accuracy'])\n",
    "        self.model = model\n",
    "\n",
    "    def fit(self, lr=0.001, epochs=1):\n",
    "        self.model.optimizer.lr = lr\n",
    "        hist = self.model.fit(self.X_train, self.y_train,\n",
    "                              batch_size=32, epochs=epochs,\n",
    "                              verbose=1, validation_data=(self.X_valid, self.y_valid),\n",
    "                              )\n",
    "        self.history.append(hist)\n",
    "\n",
    "    def prepare_submission(self, name):\n",
    "        labels, test_data = self.preproc_test()\n",
    "        predictions = self.model.predict(test_data)\n",
    "        subm = pd.DataFrame(np.column_stack([labels, np.around(predictions[:, 1])]).astype('int32'),\n",
    "                            columns=['user_agent', 'toll_fraud'])\n",
    "        subm.to_csv(\"{}.csv\".format(name), index=False)\n",
    "        return subm"
   ]
  },
  {
   "cell_type": "code",
   "execution_count": null,
   "metadata": {
    "collapsed": false
   },
   "outputs": [],
   "source": [
    "model = HoneypotKeras()"
   ]
  },
  {
   "cell_type": "code",
   "execution_count": null,
   "metadata": {
    "collapsed": true
   },
   "outputs": [],
   "source": [
    "model.build_model()"
   ]
  },
  {
   "cell_type": "code",
   "execution_count": null,
   "metadata": {
    "collapsed": false
   },
   "outputs": [],
   "source": [
    "model.fit(lr=0.01, epochs=1)"
   ]
  },
  {
   "cell_type": "code",
   "execution_count": null,
   "metadata": {
    "collapsed": false
   },
   "outputs": [],
   "source": [
    "labels, test_data = model.preproc_test()"
   ]
  },
  {
   "cell_type": "code",
   "execution_count": null,
   "metadata": {
    "collapsed": false
   },
   "outputs": [],
   "source": [
    "model.all_dataset['user_agent']\n",
    "model.all_dataset['is_scanner'] = 1 #initialize to yes/1 is scanner"
   ]
  },
  {
   "cell_type": "code",
   "execution_count": null,
   "metadata": {
    "collapsed": false
   },
   "outputs": [],
   "source": [
    "model.all_dataset['is_scanner'].loc[model.all_dataset['user_agent'].isin(SIP_SCANNERS)] = 0"
   ]
  },
  {
   "cell_type": "code",
   "execution_count": null,
   "metadata": {
    "collapsed": false
   },
   "outputs": [],
   "source": [
    "model.all_dataset.describe().transpose()"
   ]
  },
  {
   "cell_type": "code",
   "execution_count": null,
   "metadata": {
    "collapsed": false
   },
   "outputs": [],
   "source": [
    "model.all_dataset['is_scanner'].values"
   ]
  },
  {
   "cell_type": "code",
   "execution_count": null,
   "metadata": {
    "collapsed": false
   },
   "outputs": [],
   "source": [
    "list(test_data.columns.values)"
   ]
  },
  {
   "cell_type": "code",
   "execution_count": null,
   "metadata": {
    "collapsed": true
   },
   "outputs": [],
   "source": [
    "SIP_SCANNERS = ('sipcli/v1.8', 'pplsip')\n",
    "def engineer_features(dataset):\n",
    "        dataset['is_scanner'] = 1 #initialize to yes/1 is scanner\n",
    "        dataset['is_scanner'].loc[dataset['user_agent'].isin(SIP_SCANNERS)] = 0  # the rest are 0\n",
    "        return dataset"
   ]
  },
  {
   "cell_type": "code",
   "execution_count": null,
   "metadata": {
    "collapsed": false
   },
   "outputs": [],
   "source": [
    "list(model.X_train['user_agent'].values)"
   ]
  },
  {
   "cell_type": "code",
   "execution_count": null,
   "metadata": {
    "collapsed": true
   },
   "outputs": [],
   "source": []
  }
 ],
 "metadata": {
  "kernelspec": {
   "display_name": "Python 2",
   "language": "python",
   "name": "python2"
  },
  "language_info": {
   "codemirror_mode": {
    "name": "ipython",
    "version": 2
   },
   "file_extension": ".py",
   "mimetype": "text/x-python",
   "name": "python",
   "nbconvert_exporter": "python",
   "pygments_lexer": "ipython2",
   "version": "2.7.10"
  }
 },
 "nbformat": 4,
 "nbformat_minor": 2
}
